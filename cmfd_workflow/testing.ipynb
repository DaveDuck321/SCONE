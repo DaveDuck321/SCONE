{
 "cells": [
  {
   "cell_type": "code",
   "execution_count": 2,
   "metadata": {},
   "outputs": [],
   "source": [
    "import numpy as np\n",
    "import json\n",
    "from itertools import product"
   ]
  },
  {
   "cell_type": "code",
   "execution_count": 3,
   "metadata": {},
   "outputs": [],
   "source": [
    "data = json.load(open(\"output.json\"))"
   ]
  },
  {
   "cell_type": "code",
   "execution_count": 4,
   "metadata": {},
   "outputs": [],
   "source": [
    "current_data = data[\"active\"][\"current\"]\n",
    "current_matrix = np.array(current_data[\"JM\"])\n",
    "\n",
    "transport_data = data[\"active\"][\"TransportXS\"]\n",
    "transportXS_matrix = np.array(transport_data[\"transportFluxLimited\"])\n",
    "flux_matrix = np.array(transport_data[\"fluxG\"])\n",
    "\n",
    "# TODO: properly extract spacing\n",
    "spacing = {\"x\":4.0, \"y\": 4.0, \"z\": 4.0}"
   ]
  },
  {
   "cell_type": "code",
   "execution_count": 5,
   "metadata": {},
   "outputs": [],
   "source": [
    "max_x = len(current_data[\"XBounds\"])\n",
    "max_y = len(current_data[\"YBounds\"])\n",
    "max_z = len(current_data[\"ZBounds\"])\n",
    "max_energy_group = len(transport_data[\"EnergyBounds\"][0])"
   ]
  },
  {
   "cell_type": "code",
   "execution_count": 6,
   "metadata": {},
   "outputs": [
    {
     "name": "stdout",
     "output_type": "stream",
     "text": [
      "(125, 3, 7, 2)\n",
      "(5, 5, 5, 7, 2)\n",
      "(5, 5, 5, 7, 2)\n"
     ]
    }
   ],
   "source": [
    "print(current_matrix.shape)\n",
    "\n",
    "print(flux_matrix.shape)\n",
    "print(transportXS_matrix.shape)"
   ]
  },
  {
   "cell_type": "code",
   "execution_count": 7,
   "metadata": {},
   "outputs": [],
   "source": [
    "def coord_to_multimap_index(x, y, z):\n",
    "    return z * max_x * max_y + y * max_x + x\n",
    "\n",
    "def get_x_current_on_cell_right_boundary(x, y, z, energy_group):\n",
    "    # coord, direction, energy, mean/ std\n",
    "    return current_matrix[coord_to_multimap_index(x, y, z), 0, energy_group, 0]\n",
    "\n",
    "def get_flux_at_coordinate(x, y, z, energy_group):\n",
    "    return flux_matrix[z, y, x, energy_group, 0]\n",
    "\n",
    "def get_transportXS_at_coordinate(x, y, z, energy_group):\n",
    "    return transportXS_matrix[z, y, x, energy_group, 0]"
   ]
  },
  {
   "cell_type": "code",
   "execution_count": 8,
   "metadata": {},
   "outputs": [],
   "source": [
    "diffusion_coefficient = np.zeros((max_x, max_y, max_z, max_energy_group))\n",
    "\n",
    "for x, y, z, energy in product(range(max_x), range(max_y), range(max_z), range(max_energy_group)):\n",
    "    transport_XS = get_transportXS_at_coordinate(x, y, z, energy)\n",
    "    if transport_XS == 0:\n",
    "        continue\n",
    "    diffusion_coefficient[x, y, z, energy] = 1.0 / transport_XS"
   ]
  },
  {
   "cell_type": "code",
   "execution_count": 17,
   "metadata": {},
   "outputs": [],
   "source": [
    "# linear cell-to-x coupling in x direction\n",
    "current_contribution_due_to_x_linear_coupling = np.zeros((max_x, max_y, max_z, max_energy_group))\n",
    "\n",
    "for x, y, z, energy in product(range(max_x), range(max_y), range(max_z), range(max_energy_group)):\n",
    "    if x+1 >= max_x:\n",
    "        # TODO: cell to boundary coupling\n",
    "        continue\n",
    "\n",
    "    # Cell-to-cell coupling\n",
    "    D = diffusion_coefficient[x, y, z, energy]\n",
    "    D_plus_1 = diffusion_coefficient[x+1, y, z, energy]\n",
    "\n",
    "    if D == 0 and D_plus_1 == 0:\n",
    "        continue  # What should happen here?\n",
    "\n",
    "    coupling = -(2 * D_plus_1 * D)/(spacing[\"y\"]*spacing[\"z\"] * (D_plus_1 + D))\n",
    "\n",
    "    flux = get_flux_at_coordinate(x, y, z, energy)\n",
    "    flux_plus_1 = get_flux_at_coordinate(x+1, y, z, energy)\n",
    "\n",
    "    # TODO: what about the negative direction\n",
    "    current_contribution_due_to_x_linear_coupling[x, y, z, energy] = coupling * (flux_plus_1 - flux)"
   ]
  },
  {
   "cell_type": "code",
   "execution_count": 18,
   "metadata": {},
   "outputs": [],
   "source": [
    "non_linear_parameter = np.zeros((max_x, max_y, max_z, max_energy_group))\n",
    "\n",
    "for x, y, z, energy in product(range(max_x), range(max_y), range(max_z), range(max_energy_group)):\n",
    "    if x+1 >= max_x:\n",
    "        # TODO: cell to boundary coupling\n",
    "        continue\n",
    "\n",
    "    # Cell-to-cell coupling\n",
    "    j_linear = current_contribution_due_to_x_linear_coupling[x, y, z, energy]\n",
    "    flux = get_flux_at_coordinate(x, y, z, energy)\n",
    "    if flux == 0:\n",
    "        continue  # TODO: what to do here?\n",
    "\n",
    "    j_x = get_x_current_on_cell_right_boundary(x, y, z, energy)\n",
    "    non_linear_parameter[x, y, z, energy] = (j_x - j_linear) / flux"
   ]
  },
  {
   "cell_type": "code",
   "execution_count": 21,
   "metadata": {},
   "outputs": [
    {
     "data": {
      "text/plain": [
       "array([[-0.01370159, -0.00620131, -0.02612   ,  0.01538584, -0.01269533],\n",
       "       [ 0.06918026, -0.0223024 , -0.00433593,  0.01521   ,  0.02163143],\n",
       "       [-0.04037611,  0.00903076,  0.02588336,  0.00283336, -0.03865517],\n",
       "       [-0.00366029,  0.0161489 ,  0.01638859, -0.02650781,  0.01691476],\n",
       "       [ 0.        ,  0.        ,  0.        ,  0.        ,  0.        ]])"
      ]
     },
     "execution_count": 21,
     "metadata": {},
     "output_type": "execute_result"
    }
   ],
   "source": [
    "non_linear_parameter[:, :, 3, 5]"
   ]
  }
 ],
 "metadata": {
  "kernelspec": {
   "display_name": "Python 3.10.8 64-bit",
   "language": "python",
   "name": "python3"
  },
  "language_info": {
   "codemirror_mode": {
    "name": "ipython",
    "version": 3
   },
   "file_extension": ".py",
   "mimetype": "text/x-python",
   "name": "python",
   "nbconvert_exporter": "python",
   "pygments_lexer": "ipython3",
   "version": "3.10.8 (main, Nov  1 2022, 14:18:21) [GCC 12.2.0]"
  },
  "orig_nbformat": 4,
  "vscode": {
   "interpreter": {
    "hash": "e7370f93d1d0cde622a1f8e1c04877d8463912d04d973331ad4851f04de6915a"
   }
  }
 },
 "nbformat": 4,
 "nbformat_minor": 2
}
