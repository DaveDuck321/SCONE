{
 "cells": [
  {
   "cell_type": "code",
   "execution_count": 1,
   "metadata": {},
   "outputs": [],
   "source": [
    "from itertools import product\n",
    "import numpy as np"
   ]
  },
  {
   "cell_type": "code",
   "execution_count": 2,
   "metadata": {},
   "outputs": [],
   "source": [
    "mesh_size_x, mesh_size_y, mesh_size_z = 30, 30, 30\n",
    "energy_group_size = 2"
   ]
  },
  {
   "cell_type": "code",
   "execution_count": 3,
   "metadata": {},
   "outputs": [],
   "source": [
    "# Generate neutron loss matrix\n",
    "\n",
    "number_of_groups = mesh_size_x * mesh_size_y * mesh_size_z * energy_group_size\n",
    "neutron_loss_matrix_x = np.zeros((number_of_groups, number_of_groups))\n",
    "\n",
    "def get_index_in_flattened_flux_vector(energy, x, y, z):\n",
    "    return energy * (mesh_size_x * mesh_size_y * mesh_size_z) + z * (mesh_size_y * mesh_size_x) + y * mesh_size_x + x\n",
    "\n",
    "for x, y, z, energy in product(range(mesh_size_x), range(mesh_size_y), range(mesh_size_z), range(energy_group_size)):\n",
    "    index_in_flattened_flux_vector = get_index_in_flattened_flux_vector(energy, x, y, z)\n",
    "\n",
    "    direction = 0\n",
    "    is_on_high_boundary = [x == mesh_size_x - 1, y == mesh_size_y - 1, z == mesh_size_z - 1][direction]\n",
    "    is_on_low_boundary = [x == 0, y == 0, z == 0][direction]\n",
    "    delta_x, delta_y, delta_z = [(1, 0, 0), (0, 1, 0), (0, 0, 1)][direction]    \n",
    "\n",
    "    # From flux l-1\n",
    "    if not is_on_low_boundary:\n",
    "        neutron_loss_matrix_x[index_in_flattened_flux_vector, get_index_in_flattened_flux_vector(energy, x - delta_x, y - delta_y, z - delta_z)] \\\n",
    "            += 1\n",
    "\n",
    "    # From flux l\n",
    "    neutron_loss_matrix_x[index_in_flattened_flux_vector, index_in_flattened_flux_vector] \\\n",
    "        += 1\n",
    "\n",
    "    # From flux l+1\n",
    "    if not is_on_high_boundary:\n",
    "        neutron_loss_matrix_x[index_in_flattened_flux_vector, get_index_in_flattened_flux_vector(energy, x + delta_x, y + delta_y, z + delta_z)] \\\n",
    "            += 1\n",
    "\n"
   ]
  },
  {
   "cell_type": "code",
   "execution_count": 4,
   "metadata": {},
   "outputs": [],
   "source": [
    "# Generate neutron loss matrix\n",
    "\n",
    "number_of_groups = mesh_size_x * mesh_size_y * mesh_size_z * energy_group_size\n",
    "neutron_loss_matrix_y = np.zeros((number_of_groups, number_of_groups))\n",
    "\n",
    "def get_index_in_flattened_flux_vector(energy, x, y, z):\n",
    "    return energy * (mesh_size_x * mesh_size_y * mesh_size_z) + z * (mesh_size_y * mesh_size_x) + y * mesh_size_x + x\n",
    "\n",
    "for x, y, z, energy in product(range(mesh_size_x), range(mesh_size_y), range(mesh_size_z), range(energy_group_size)):\n",
    "    index_in_flattened_flux_vector = get_index_in_flattened_flux_vector(energy, x, y, z)\n",
    "\n",
    "    direction = 1\n",
    "    is_on_high_boundary = [x == mesh_size_x - 1, y == mesh_size_y - 1, z == mesh_size_z - 1][direction]\n",
    "    is_on_low_boundary = [x == 0, y == 0, z == 0][direction]\n",
    "    delta_x, delta_y, delta_z = [(1, 0, 0), (0, 1, 0), (0, 0, 1)][direction]    \n",
    "\n",
    "    # From flux l-1\n",
    "    if not is_on_low_boundary:\n",
    "        neutron_loss_matrix_y[index_in_flattened_flux_vector, get_index_in_flattened_flux_vector(energy, x - delta_x, y - delta_y, z - delta_z)] \\\n",
    "            += 1\n",
    "\n",
    "    # From flux l\n",
    "    neutron_loss_matrix_y[index_in_flattened_flux_vector, index_in_flattened_flux_vector] \\\n",
    "        += 1\n",
    "\n",
    "    # From flux l+1\n",
    "    if not is_on_high_boundary:\n",
    "        neutron_loss_matrix_y[index_in_flattened_flux_vector, get_index_in_flattened_flux_vector(energy, x + delta_x, y + delta_y, z + delta_z)] \\\n",
    "            += 1\n",
    "\n"
   ]
  },
  {
   "cell_type": "code",
   "execution_count": 5,
   "metadata": {},
   "outputs": [],
   "source": [
    "# Generate neutron loss matrix\n",
    "\n",
    "number_of_groups = mesh_size_x * mesh_size_y * mesh_size_z * energy_group_size\n",
    "neutron_loss_matrix_z = np.zeros((number_of_groups, number_of_groups))\n",
    "\n",
    "def get_index_in_flattened_flux_vector(energy, x, y, z):\n",
    "    return energy * (mesh_size_x * mesh_size_y * mesh_size_z) + z * (mesh_size_y * mesh_size_x) + y * mesh_size_x + x\n",
    "\n",
    "for x, y, z, energy in product(range(mesh_size_x), range(mesh_size_y), range(mesh_size_z), range(energy_group_size)):\n",
    "    index_in_flattened_flux_vector = get_index_in_flattened_flux_vector(energy, x, y, z)\n",
    "\n",
    "    direction = 2\n",
    "    is_on_high_boundary = [x == mesh_size_x - 1, y == mesh_size_y - 1, z == mesh_size_z - 1][direction]\n",
    "    is_on_low_boundary = [x == 0, y == 0, z == 0][direction]\n",
    "    delta_x, delta_y, delta_z = [(1, 0, 0), (0, 1, 0), (0, 0, 1)][direction]    \n",
    "\n",
    "    # From flux l-1\n",
    "    if not is_on_low_boundary:\n",
    "        neutron_loss_matrix_z[index_in_flattened_flux_vector, get_index_in_flattened_flux_vector(energy, x - delta_x, y - delta_y, z - delta_z)] \\\n",
    "            += 1\n",
    "\n",
    "    # From flux l\n",
    "    neutron_loss_matrix_z[index_in_flattened_flux_vector, index_in_flattened_flux_vector] \\\n",
    "        += 1\n",
    "\n",
    "    # From flux l+1\n",
    "    if not is_on_high_boundary:\n",
    "        neutron_loss_matrix_z[index_in_flattened_flux_vector, get_index_in_flattened_flux_vector(energy, x + delta_x, y + delta_y, z + delta_z)] \\\n",
    "            += 1\n",
    "\n"
   ]
  },
  {
   "cell_type": "code",
   "execution_count": 6,
   "metadata": {},
   "outputs": [],
   "source": [
    "# Generate neutron loss matrix\n",
    "\n",
    "number_of_groups = mesh_size_x * mesh_size_y * mesh_size_z * energy_group_size\n",
    "neutron_loss_matrix_total = np.zeros((number_of_groups, number_of_groups))\n",
    "\n",
    "def get_index_in_flattened_flux_vector(energy, x, y, z):\n",
    "    return energy * (mesh_size_x * mesh_size_y * mesh_size_z) + z * (mesh_size_y * mesh_size_x) + y * mesh_size_x + x\n",
    "\n",
    "for x, y, z, energy in product(range(mesh_size_x), range(mesh_size_y), range(mesh_size_z), range(energy_group_size)):\n",
    "    index_in_flattened_flux_vector = get_index_in_flattened_flux_vector(energy, x, y, z)\n",
    "\n",
    "    # Total XS\n",
    "    neutron_loss_matrix_total[index_in_flattened_flux_vector, index_in_flattened_flux_vector] \\\n",
    "        += 1\n",
    "\n"
   ]
  },
  {
   "cell_type": "code",
   "execution_count": 7,
   "metadata": {},
   "outputs": [],
   "source": [
    "# Generate neutron loss matrix\n",
    "\n",
    "number_of_groups = mesh_size_x * mesh_size_y * mesh_size_z * energy_group_size\n",
    "neutron_loss_matrix_scattering = np.zeros((number_of_groups, number_of_groups))\n",
    "\n",
    "def get_index_in_flattened_flux_vector(energy, x, y, z):\n",
    "    return energy * (mesh_size_x * mesh_size_y * mesh_size_z) + z * (mesh_size_y * mesh_size_x) + y * mesh_size_x + x\n",
    "\n",
    "for x, y, z, energy in product(range(mesh_size_x), range(mesh_size_y), range(mesh_size_z), range(energy_group_size)):\n",
    "    index_in_flattened_flux_vector = get_index_in_flattened_flux_vector(energy, x, y, z)\n",
    "\n",
    "    # Scattering\n",
    "    for h_energy in range(energy_group_size):\n",
    "        neutron_loss_matrix_scattering[index_in_flattened_flux_vector, get_index_in_flattened_flux_vector(h_energy, x, y, z)] \\\n",
    "            += 1\n"
   ]
  },
  {
   "cell_type": "code",
   "execution_count": 8,
   "metadata": {},
   "outputs": [],
   "source": [
    "import matplotlib.pyplot as plt\n",
    "\n",
    "fig, axs = plt.subplots(2, 3, sharex=True, sharey=True, figsize=(10, 7))\n",
    "\n",
    "axs[0, 0].imshow(neutron_loss_matrix_x, cmap='Greys', interpolation='none')\n",
    "axs[0, 0].set_title('Diffusion-x matrix')\n",
    "axs[0, 1].imshow(neutron_loss_matrix_y, cmap='Greys', interpolation='none')\n",
    "axs[0, 1].set_title('Diffusion-y matrix')\n",
    "axs[0, 2].imshow(neutron_loss_matrix_z, cmap='Greys', interpolation='none')\n",
    "axs[0, 2].set_title('Diffusion-z matrix')\n",
    "axs[1, 0].imshow(neutron_loss_matrix_total, cmap='Greys', interpolation='none')\n",
    "axs[1, 0].set_title('Total cross section matrix')\n",
    "axs[1, 1].imshow(neutron_loss_matrix_scattering, cmap='Greys', interpolation='none')\n",
    "axs[1, 1].set_title('Neutron scattering matrix')\n",
    "axs[1, 2].imshow((neutron_loss_matrix_total+neutron_loss_matrix_scattering+neutron_loss_matrix_x+neutron_loss_matrix_y+neutron_loss_matrix_z) != 0, cmap='Greys', interpolation='none')\n",
    "axs[1, 2].set_title('Neutron loss matrix')"
   ]
  },
  {
   "cell_type": "code",
   "execution_count": null,
   "metadata": {},
   "outputs": [
    {
     "data": {
      "text/plain": [
       "(-0.5, 53.5, 53.5, -0.5)"
      ]
     },
     "execution_count": 12,
     "metadata": {},
     "output_type": "execute_result"
    },
    {
     "data": {
      "image/png": "[encoded data removed]",
      "text/plain": [
       "<Figure size 640x480 with 1 Axes>"
      ]
     },
     "metadata": {},
     "output_type": "display_data"
    }
   ],
   "source": [
    "plt.imshow((neutron_loss_matrix_scattering) != 0, cmap='Greys', interpolation='none')\n",
    "plt.axis('off')"
   ]
  },
  {
   "cell_type": "code",
   "execution_count": null,
   "metadata": {},
   "outputs": [
    {
     "data": {
      "text/plain": [
       "<matplotlib.legend.Legend at 0x7f7b17c3f6a0>"
      ]
     },
     "execution_count": 10,
     "metadata": {},
     "output_type": "execute_result"
    },
    {
     "data": {
      "image/png": "[encoded data removed]",
      "text/plain": [
       "<Figure size 640x480 with 1 Axes>"
      ]
     },
     "metadata": {},
     "output_type": "display_data"
    }
   ],
   "source": [
    "def get_non_zero_cell_count(mesh_size_x, mesh_size_y, mesh_size_z, energy_group_size):\n",
    "    total = 0\n",
    "    total += g*mesh_size_x*mesh_size_y*mesh_size_z*energy_group_size\n",
    "\n",
    "    for x, y, z, energy in product(range(mesh_size_x), range(mesh_size_y), range(mesh_size_z), range(energy_group_size)):\n",
    "        for direction in range(3):\n",
    "            is_on_high_boundary = [x == mesh_size_x - 1, y == mesh_size_y - 1, z == mesh_size_z - 1][direction]\n",
    "            is_on_low_boundary = [x == 0, y == 0, z == 0][direction]\n",
    "\n",
    "            # From flux l-1\n",
    "            if not is_on_low_boundary:\n",
    "                total += 1\n",
    "\n",
    "            # From flux l+1\n",
    "            if not is_on_high_boundary:\n",
    "                total += 1\n",
    "    \n",
    "    return total\n",
    "\n",
    "count_range = np.arange(2, 20)\n",
    "\n",
    "g=1\n",
    "cell_count_g_2 = []\n",
    "for size in count_range:\n",
    "    cell_count_g_2.append(get_non_zero_cell_count(size, size, size, g)/ ((g*size**3)**2))\n",
    "\n",
    "g=3\n",
    "cell_count_g_3 = []\n",
    "for size in count_range:\n",
    "    cell_count_g_3.append(get_non_zero_cell_count(size, size, size, g)/ ((g*size**3)**2))\n",
    "\n",
    "g=10\n",
    "cell_count_g_10 = []\n",
    "for size in count_range:\n",
    "    cell_count_g_10.append(get_non_zero_cell_count(size, size, size, g)/ ((g*size**3)**2))\n",
    "\n",
    "g=1\n",
    "cell_count_theory = []\n",
    "for size in count_range:\n",
    "    cell_count_theory.append(((6+g)* g*size**3)/ ((g*size**3)**2))\n",
    "\n",
    "plt.plot(count_range, cell_count_g_2, label='$G=1$')\n",
    "plt.plot(count_range, cell_count_g_3, label='$G=3$')\n",
    "plt.plot(count_range, cell_count_g_10, label='$G=10$')\n",
    "plt.plot(count_range, cell_count_theory, label='$(6+G)XYZG$ upper bound for $G=1$')\n",
    "plt.xlabel('Spatial mesh discretization count')\n",
    "plt.ylabel('Proportion of non-zero cells')\n",
    "#plt.yscale('log')\n",
    "plt.legend()\n"
   ]
  },
  {
   "cell_type": "code",
   "execution_count": null,
   "metadata": {},
   "outputs": [],
   "source": []
  }
 ],
 "metadata": {
  "kernelspec": {
   "display_name": "Python 3",
   "language": "python",
   "name": "python3"
  },
  "language_info": {
   "codemirror_mode": {
    "name": "ipython",
    "version": 3
   },
   "file_extension": ".py",
   "mimetype": "text/x-python",
   "name": "python",
   "nbconvert_exporter": "python",
   "pygments_lexer": "ipython3",
   "version": "3.10.10"
  },
  "orig_nbformat": 4
 },
 "nbformat": 4,
 "nbformat_minor": 2
}
