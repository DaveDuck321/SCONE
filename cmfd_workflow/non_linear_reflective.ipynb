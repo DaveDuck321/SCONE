{
 "cells": [
  {
   "cell_type": "code",
   "execution_count": 1,
   "metadata": {},
   "outputs": [],
   "source": [
    "import numpy as np\n",
    "import json\n",
    "from itertools import product"
   ]
  },
  {
   "cell_type": "code",
   "execution_count": 2,
   "metadata": {},
   "outputs": [],
   "source": [
    "data = json.load(open(\"/home/tom/Programming/SCONE/InputFiles/output.json\"))"
   ]
  },
  {
   "cell_type": "code",
   "execution_count": 3,
   "metadata": {},
   "outputs": [],
   "source": [
    "current_data = data[\"active\"][\"current\"]\n",
    "current_matrix = np.array(current_data[\"JM\"])\n",
    "\n",
    "transport_data = data[\"active\"][\"TransportXS\"]\n",
    "transportXS_matrix = np.array(transport_data[\"transportXS\"])\n",
    "totalXS_matrix = np.array(transport_data[\"totalXS\"])\n",
    "raw_scatterXS = np.array(transport_data[\"scatterXS\"])\n",
    "scatterXS_matrix = np.array(transport_data[\"scatteringProductionXS\"])\n",
    "fissionXS_matrix = np.array(transport_data[\"fissionProductionXS\"])\n",
    "raw_fissionXS = np.array(transport_data[\"fissionXS\"])\n",
    "nu_bar_matrix = np.array(transport_data[\"nuBar\"])\n",
    "flux_matrix = np.array(data[\"active\"][\"fluxMap\"][\"Res\"])\n",
    "\n",
    "# TODO: properly extract spacing\n",
    "spacing = [2, 50/10, 2]\n",
    "\n",
    "beta = 1"
   ]
  },
  {
   "cell_type": "code",
   "execution_count": 4,
   "metadata": {},
   "outputs": [
    {
     "data": {
      "text/plain": [
       "(1, 10, 1, 1, 1, 2)"
      ]
     },
     "execution_count": 4,
     "metadata": {},
     "output_type": "execute_result"
    }
   ],
   "source": [
    "flux_matrix.shape"
   ]
  },
  {
   "cell_type": "code",
   "execution_count": 5,
   "metadata": {},
   "outputs": [],
   "source": [
    "current_max_x = len(current_data[\"XBounds\"]) + 1\n",
    "current_max_y = len(current_data[\"YBounds\"]) + 1\n",
    "current_max_z = len(current_data[\"ZBounds\"]) + 1\n",
    "current_max_energy_group = len(transport_data[\"EnergyBounds\"][0])\n",
    "\n",
    "mesh_size_x = len(current_data[\"XBounds\"])\n",
    "mesh_size_y = len(current_data[\"YBounds\"])\n",
    "mesh_size_z = len(current_data[\"ZBounds\"])"
   ]
  },
  {
   "cell_type": "code",
   "execution_count": 6,
   "metadata": {},
   "outputs": [
    {
     "name": "stdout",
     "output_type": "stream",
     "text": [
      "(1, 3, 2, 11, 2, 2)\n",
      "(1, 10, 1, 1, 1, 2)\n",
      "(1, 10, 1, 1, 2)\n",
      "(1, 10, 1, 1, 1, 2)\n",
      "(1, 10, 1, 1, 1, 2)\n",
      "\n",
      "0 1 1 1 1 0 -9.92475\n",
      "0 1 1 2 1 0 2.03102\n",
      "0 1 1 3 1 0 -31.0134\n",
      "0 1 1 4 1 0 14.2799\n",
      "0 1 1 5 1 0 -1.64173\n",
      "0 1 1 6 1 0 -13.1152\n",
      "0 1 1 7 1 0 -19.375\n",
      "0 1 1 8 1 0 -1.17141\n",
      "0 1 1 9 1 0 4.02609\n"
     ]
    }
   ],
   "source": [
    "print(current_matrix.shape)\n",
    "print(flux_matrix.shape)\n",
    "print(transportXS_matrix.shape)\n",
    "\n",
    "print(scatterXS_matrix.shape)\n",
    "print(fissionXS_matrix.shape)\n",
    "\n",
    "print()\n",
    "\n",
    "for i0, i0_l in enumerate(current_matrix):\n",
    "    for i1, i1_l in enumerate(i0_l):\n",
    "        for i2, i2_l in enumerate(i1_l):\n",
    "            for i3, i3_l in enumerate(i2_l):\n",
    "                for i4, i4_l in enumerate(i3_l):\n",
    "                    if current_matrix[i0, i1, i2, i3, i4, 0]:\n",
    "                        print(i0, i1, i2, i3, i4, 0, current_matrix[i0, i1, i2, i3, i4, 0])\n"
   ]
  },
  {
   "cell_type": "code",
   "execution_count": 7,
   "metadata": {},
   "outputs": [],
   "source": [
    "def print_matrix(matrix):\n",
    "    return\n",
    "    for row in matrix:\n",
    "        for item in row:\n",
    "            rounded = round(item, 4)\n",
    "            if item == 0:\n",
    "                print(f\"{'--':<8}\", end=\" \")\n",
    "            else:\n",
    "                print(f\"{rounded:<8}\", end=\" \")\n",
    "        print(\"\\n\")"
   ]
  },
  {
   "cell_type": "code",
   "execution_count": 8,
   "metadata": {},
   "outputs": [],
   "source": [
    "def get_current_on_cell_boundary_plus_half(direction, x, y, z, energy_group):\n",
    "    # coord, direction, energy, mean/ std\n",
    "    return current_matrix[energy_group, direction, z + 1, y + 1, x + 1, 0] / ((spacing[0] * spacing[1] * spacing[2]) / spacing[direction])\n",
    "\n",
    "def get_flux_at_coordinate(x, y, z, energy_group):\n",
    "    return flux_matrix[z, y, x, energy_group, 0, 0] / (spacing[0] * spacing[1] * spacing[2])\n",
    "\n",
    "def get_transportXS_at_coordinate(x, y, z, energy_group):\n",
    "    return transportXS_matrix[z, y, x, energy_group, 0]\n",
    "\n",
    "def get_totalXS_at_coordinate(x, y, z, energy_group):\n",
    "    return totalXS_matrix[z, y, x, energy_group, 0]\n",
    "\n",
    "def get_scatter_xs(energy_to, energy_from, x, y, z):\n",
    "    # TODO: check this\n",
    "    return scatterXS_matrix[z, y, x, energy_from, energy_to, 0]\n",
    "\n",
    "def get_raw_scatter_xs(energy, x, y, z):\n",
    "    # TODO: check this\n",
    "    return raw_scatterXS[z, y, x, energy, 0]\n",
    "\n",
    "def get_raw_fission_xs(energy, x, y, z):\n",
    "    # TODO: check this\n",
    "    return raw_fissionXS[z, y, x, energy, 0]\n",
    "\n",
    "def get_nu_bar(energy, x, y, z):\n",
    "    # TODO: check this\n",
    "    return nu_bar_matrix[z, y, x, energy, 0]\n",
    "\n",
    "def get_fission_xs(energy_to, energy_from, x, y, z):\n",
    "    # TODO: check this\n",
    "    return fissionXS_matrix[z, y, x, energy_from, energy_to, 0]"
   ]
  },
  {
   "cell_type": "code",
   "execution_count": 9,
   "metadata": {},
   "outputs": [],
   "source": [
    "# print(get_raw_scatter_xs(0, 0, 5, 0))\n",
    "# print(get_scatter_xs(0, 0, 0, 5, 0))\n",
    "\n",
    "# print()\n",
    "\n",
    "# print(get_raw_fission_xs(0, 0, 5, 0))\n",
    "# print(get_fission_xs(0, 0, 0, 5, 0))\n",
    "# print(get_nu_bar(0, 0, 5, 0))\n",
    "\n",
    "# print()\n",
    "\n",
    "# print(get_transportXS_at_coordinate(0, 5, 0, 0))\n",
    "# print(get_totalXS_at_coordinate(0, 5, 0, 0))"
   ]
  },
  {
   "cell_type": "code",
   "execution_count": 10,
   "metadata": {},
   "outputs": [],
   "source": [
    "# # Calculate k_inf\n",
    "# # Do I need to remove scattering multiplicity here?\n",
    "# absorption_xs = get_totalXS_at_coordinate(0, 5, 0, 0) - get_scatter_xs(0, 0, 0, 5, 0)\n",
    "# print(absorption_xs)\n",
    "\n",
    "# # Assume utilization factor = 1\n",
    "\n",
    "# eta = get_nu_bar(0, 0, 5, 0) * get_fission_xs(0, 0, 0, 5, 0) / absorption_xs\n",
    "# k_inf = eta * absorption_xs\n",
    "# print(eta)"
   ]
  },
  {
   "cell_type": "code",
   "execution_count": 11,
   "metadata": {},
   "outputs": [],
   "source": [
    "diffusion_coefficient = np.zeros((mesh_size_x, mesh_size_y, mesh_size_z, current_max_energy_group))\n",
    "\n",
    "for x, y, z, energy in product(range(mesh_size_x), range(mesh_size_y), range(mesh_size_z), range(current_max_energy_group)):\n",
    "    transport_XS = get_transportXS_at_coordinate(x, y, z, energy)\n",
    "    assert transport_XS > 0\n",
    "    diffusion_coefficient[x, y, z, energy] = 1.0 / (3.0 * transport_XS)\n"
   ]
  },
  {
   "cell_type": "code",
   "execution_count": 12,
   "metadata": {},
   "outputs": [],
   "source": [
    "def build_linear_diffusive_term(direction):\n",
    "    linear_diffusive_term_positive = np.zeros((mesh_size_x, mesh_size_y, mesh_size_z, current_max_energy_group))\n",
    "    linear_diffusive_term_negative = np.zeros((mesh_size_x, mesh_size_y, mesh_size_z, current_max_energy_group))\n",
    "\n",
    "    for x, y, z, energy in product(range(mesh_size_x), range(mesh_size_y), range(mesh_size_z), range(current_max_energy_group)):\n",
    "        D = diffusion_coefficient[x, y, z, energy]\n",
    "\n",
    "        is_on_high_boundary = [x == mesh_size_x - 1, y == mesh_size_y - 1, z == mesh_size_z - 1][direction]\n",
    "        is_on_low_boundary = [x == 0, y == 0, z == 0][direction]\n",
    "        delta_x, delta_y, delta_z = [(1, 0, 0), (0, 1, 0), (0, 0, 1)][direction]\n",
    "\n",
    "        if is_on_low_boundary:\n",
    "            coupling = (2 * D * (1 - beta)) / (4 * D * (1 + beta) + (1 - beta) * spacing[direction])\n",
    "        else:\n",
    "            D_minus_1 = diffusion_coefficient[x - delta_x, y - delta_y, z - delta_z, energy]\n",
    "            coupling = (2 * D_minus_1 * D) / ((D_minus_1 + D) * spacing[direction])\n",
    "\n",
    "        linear_diffusive_term_negative[x, y, z, energy] = coupling\n",
    "\n",
    "        if is_on_high_boundary:\n",
    "            coupling = (2 * D * (1 - beta)) / (4 * D * (1 + beta) + (1 - beta) * spacing[direction])\n",
    "        else:\n",
    "            D_plus_1 = diffusion_coefficient[x + delta_x, y + delta_y, z + delta_z, energy]\n",
    "            coupling = (2 * D_plus_1 * D) / ((D_plus_1 + D) * spacing[direction])\n",
    "        \n",
    "        linear_diffusive_term_positive[x, y, z, energy] = coupling\n",
    "    return linear_diffusive_term_negative, linear_diffusive_term_positive"
   ]
  },
  {
   "cell_type": "code",
   "execution_count": 13,
   "metadata": {},
   "outputs": [],
   "source": [
    "POSITIVE_DIR = 1\n",
    "NEGATIVE_DIR = 0\n",
    "linear_diffusive_terms = [build_linear_diffusive_term(0), build_linear_diffusive_term(1), build_linear_diffusive_term(2)]"
   ]
  },
  {
   "cell_type": "code",
   "execution_count": 14,
   "metadata": {},
   "outputs": [],
   "source": [
    "def build_non_linear_diffusive_term(direction):\n",
    "    non_linear_diffusive_term_positive = np.zeros((mesh_size_x, mesh_size_y, mesh_size_z, current_max_energy_group))\n",
    "    non_linear_diffusive_term_negative = np.zeros((mesh_size_x, mesh_size_y, mesh_size_z, current_max_energy_group))\n",
    "\n",
    "    for x, y, z, energy in product(range(mesh_size_x), range(mesh_size_y), range(mesh_size_z), range(current_max_energy_group)):\n",
    "        flux = get_flux_at_coordinate(x, y, z, energy)\n",
    "\n",
    "        is_on_high_boundary = [x == mesh_size_x - 1, y == mesh_size_y - 1, z == mesh_size_z - 1][direction]\n",
    "        is_on_low_boundary = [x == 0, y == 0, z == 0][direction]\n",
    "        delta_x, delta_y, delta_z = [(1, 0, 0), (0, 1, 0), (0, 0, 1)][direction]\n",
    "\n",
    "        J_minus_half_tallied = get_current_on_cell_boundary_plus_half(direction, x - delta_x, y - delta_y, z - delta_z, energy)\n",
    "        D_linear = linear_diffusive_terms[direction][NEGATIVE_DIR][x, y, z, energy]\n",
    "\n",
    "        if is_on_low_boundary:\n",
    "            non_linear_term = (J_minus_half_tallied + D_linear * flux) / flux\n",
    "        else:\n",
    "            flux_minus_1 = get_flux_at_coordinate(x - delta_x, y - delta_y, z - delta_z, energy)\n",
    "\n",
    "            print(f\"Current-: {J_minus_half_tallied}, Linear estimate: {-D_linear * (-flux_minus_1 + flux)}\")\n",
    "            non_linear_term = (J_minus_half_tallied + D_linear * (-flux_minus_1 + flux)) / (flux_minus_1 + flux)\n",
    "\n",
    "        non_linear_diffusive_term_negative[x, y, z, energy] = non_linear_term\n",
    "\n",
    "        J_plus_half_tallied = get_current_on_cell_boundary_plus_half(direction, x, y, z, energy)\n",
    "        D_linear = linear_diffusive_terms[direction][POSITIVE_DIR][x, y, z, energy]\n",
    "        if is_on_high_boundary:\n",
    "            non_linear_term = (J_plus_half_tallied - D_linear * flux) / flux\n",
    "        else:\n",
    "            flux_plus_1 = get_flux_at_coordinate(x + delta_x, y + delta_y, z + delta_z, energy)\n",
    "\n",
    "            print(f\"Current+: {J_plus_half_tallied}, Linear estimate: {-D_linear * (flux_plus_1 - flux)}\")\n",
    "            non_linear_term = (J_plus_half_tallied + D_linear * (flux_plus_1 - flux)) / (flux_plus_1 + flux)\n",
    "        \n",
    "        non_linear_diffusive_term_positive[x, y, z, energy] = non_linear_term\n",
    "\n",
    "\n",
    "        #non_linear_diffusive_term_negative[x, y, z, energy] = 0\n",
    "        #non_linear_diffusive_term_positive[x, y, z, energy] = 0\n",
    "\n",
    "    return non_linear_diffusive_term_negative, non_linear_diffusive_term_positive"
   ]
  },
  {
   "cell_type": "code",
   "execution_count": 15,
   "metadata": {},
   "outputs": [
    {
     "name": "stdout",
     "output_type": "stream",
     "text": [
      "Current+: -2.4811875, Linear estimate: -0.8256251764352196\n",
      "Current-: -2.4811875, Linear estimate: -0.8256251764352196\n",
      "Current+: 0.507755, Linear estimate: 1.1185528493300143\n",
      "Current-: 0.507755, Linear estimate: 1.1185528493300143\n",
      "Current+: -7.75335, Linear estimate: -2.737875997544503\n",
      "Current-: -7.75335, Linear estimate: -2.737875997544503\n",
      "Current+: 3.569975, Linear estimate: 0.557744315562668\n",
      "Current-: 3.569975, Linear estimate: 0.557744315562668\n",
      "Current+: -0.4104325, Linear estimate: 0.3420327830348864\n",
      "Current-: -0.4104325, Linear estimate: 0.3420327830348864\n",
      "Current+: -3.2788, Linear estimate: -1.028318173525023\n",
      "Current-: -3.2788, Linear estimate: -1.028318173525023\n",
      "Current+: -4.84375, Linear estimate: -0.1829582963246018\n",
      "Current-: -4.84375, Linear estimate: -0.1829582963246018\n",
      "Current+: -0.2928525, Linear estimate: 1.3770973627649732\n",
      "Current-: -0.2928525, Linear estimate: 1.3770973627649732\n",
      "Current+: 1.0065225, Linear estimate: 1.2147069711864589\n",
      "Current-: 1.0065225, Linear estimate: 1.2147069711864589\n"
     ]
    }
   ],
   "source": [
    "non_linear_diffusive_terms = [build_non_linear_diffusive_term(0), build_non_linear_diffusive_term(1), build_non_linear_diffusive_term(2)]"
   ]
  },
  {
   "cell_type": "code",
   "execution_count": 16,
   "metadata": {},
   "outputs": [
    {
     "data": {
      "image/png": "[encoded data removed]",
      "text/plain": [
       "<Figure size 640x480 with 1 Axes>"
      ]
     },
     "metadata": {},
     "output_type": "display_data"
    }
   ],
   "source": [
    "from matplotlib import pyplot as plt\n",
    "\n",
    "for x, z, energy in product(range(mesh_size_x), range(mesh_size_z), range(current_max_energy_group)):\n",
    "    plt.plot(non_linear_diffusive_terms[1][POSITIVE_DIR][x, :, z, 0])\n",
    "    plt.plot(non_linear_diffusive_terms[1][NEGATIVE_DIR][x, :, z, 0])"
   ]
  },
  {
   "cell_type": "code",
   "execution_count": 17,
   "metadata": {},
   "outputs": [
    {
     "name": "stdout",
     "output_type": "stream",
     "text": [
      "[57831.7 58282.1 57672.1 59166.2 58861.9 58675.5 59236.3 59336.1 58585.5\n",
      " 57922.7]\n"
     ]
    }
   ],
   "source": [
    "print(flux_matrix[0, :, 0, 0, 0, 0])"
   ]
  },
  {
   "cell_type": "code",
   "execution_count": 18,
   "metadata": {},
   "outputs": [
    {
     "name": "stdout",
     "output_type": "stream",
     "text": [
      "group\n",
      "(D_linear_minus + D_linear_plus)=0.0\n",
      "group\n",
      "(D_linear_minus + D_linear_plus)=0.03666186396248758\n",
      "(D_linear_plus)=0.03666186396248758\n",
      "group\n",
      "(D_linear_minus + D_linear_plus)=0.0\n",
      "group\n",
      "(D_linear_minus + D_linear_plus)=0.0\n",
      "group\n",
      "D_linear_minus=0.03666186396248758\n",
      "(D_linear_minus + D_linear_plus)=0.07333572787494706\n",
      "(D_linear_plus)=0.036673863912459484\n",
      "group\n",
      "(D_linear_minus + D_linear_plus)=0.0\n",
      "group\n",
      "(D_linear_minus + D_linear_plus)=0.0\n",
      "group\n",
      "D_linear_minus=0.036673863912459484\n",
      "(D_linear_minus + D_linear_plus)=0.07332303060203188\n",
      "(D_linear_plus)=0.03664916668957239\n",
      "group\n",
      "(D_linear_minus + D_linear_plus)=0.0\n",
      "group\n",
      "(D_linear_minus + D_linear_plus)=0.0\n",
      "group\n",
      "D_linear_minus=0.03664916668957239\n",
      "(D_linear_minus + D_linear_plus)=0.07330669646694205\n",
      "(D_linear_plus)=0.036657529777369656\n",
      "group\n",
      "(D_linear_minus + D_linear_plus)=0.0\n",
      "group\n",
      "(D_linear_minus + D_linear_plus)=0.0\n",
      "group\n",
      "D_linear_minus=0.036657529777369656\n",
      "(D_linear_minus + D_linear_plus)=0.07335632624033965\n",
      "(D_linear_plus)=0.036698796462969994\n",
      "group\n",
      "(D_linear_minus + D_linear_plus)=0.0\n",
      "group\n",
      "(D_linear_minus + D_linear_plus)=0.0\n",
      "group\n",
      "D_linear_minus=0.036698796462969994\n",
      "(D_linear_minus + D_linear_plus)=0.07337205514788528\n",
      "(D_linear_plus)=0.03667325868491528\n",
      "group\n",
      "(D_linear_minus + D_linear_plus)=0.0\n",
      "group\n",
      "(D_linear_minus + D_linear_plus)=0.0\n",
      "group\n",
      "D_linear_minus=0.03667325868491528\n",
      "(D_linear_minus + D_linear_plus)=0.07333824792832405\n",
      "(D_linear_plus)=0.03666498924340878\n",
      "group\n",
      "(D_linear_minus + D_linear_plus)=0.0\n",
      "group\n",
      "(D_linear_minus + D_linear_plus)=0.0\n",
      "group\n",
      "D_linear_minus=0.03666498924340878\n",
      "(D_linear_minus + D_linear_plus)=0.07335823099041072\n",
      "(D_linear_plus)=0.036693241747001934\n",
      "group\n",
      "(D_linear_minus + D_linear_plus)=0.0\n",
      "group\n",
      "(D_linear_minus + D_linear_plus)=0.0\n",
      "group\n",
      "D_linear_minus=0.036693241747001934\n",
      "(D_linear_minus + D_linear_plus)=0.07334704292945356\n",
      "(D_linear_plus)=0.03665380118245162\n",
      "group\n",
      "(D_linear_minus + D_linear_plus)=0.0\n",
      "group\n",
      "(D_linear_minus + D_linear_plus)=0.0\n",
      "group\n",
      "D_linear_minus=0.03665380118245162\n",
      "(D_linear_minus + D_linear_plus)=0.03665380118245162\n",
      "group\n",
      "(D_linear_minus + D_linear_plus)=0.0\n"
     ]
    }
   ],
   "source": [
    "# Generate neutron loss matrix\n",
    "\n",
    "delta_test = 0\n",
    "number_of_groups = mesh_size_x * mesh_size_y * mesh_size_z * current_max_energy_group\n",
    "neutron_loss_matrix = np.zeros((number_of_groups, number_of_groups))\n",
    "\n",
    "def get_index_in_flattened_flux_vector(energy, x, y, z):\n",
    "    return energy * (mesh_size_x * mesh_size_y * mesh_size_z) + z * (mesh_size_y * mesh_size_x) + y * mesh_size_x + x\n",
    "\n",
    "for x, y, z, energy in product(range(mesh_size_x), range(mesh_size_y), range(mesh_size_z), range(current_max_energy_group)):\n",
    "    index_in_flattened_flux_vector = get_index_in_flattened_flux_vector(energy, x, y, z)\n",
    "\n",
    "    for direction in range(3):\n",
    "        spacing_inv = (1 / spacing[direction])\n",
    "\n",
    "        is_on_high_boundary = [x == mesh_size_x - 1, y == mesh_size_y - 1, z == mesh_size_z - 1][direction]\n",
    "        is_on_low_boundary = [x == 0, y == 0, z == 0][direction]\n",
    "        delta_x, delta_y, delta_z = [(1, 0, 0), (0, 1, 0), (0, 0, 1)][direction]    \n",
    "\n",
    "        # From flux l-1\n",
    "        D_linear_minus = linear_diffusive_terms[direction][NEGATIVE_DIR][x, y, z, energy]\n",
    "        D_linear_plus = linear_diffusive_terms[direction][POSITIVE_DIR][x, y, z, energy]\n",
    "\n",
    "        D_non_linear_minus = non_linear_diffusive_terms[direction][NEGATIVE_DIR][x, y, z, energy]\n",
    "        D_non_linear_plus = non_linear_diffusive_terms[direction][POSITIVE_DIR][x, y, z, energy]\n",
    "\n",
    "        print(\"group\")\n",
    "        if not is_on_low_boundary:\n",
    "            neutron_loss_matrix[index_in_flattened_flux_vector, get_index_in_flattened_flux_vector(energy, x - delta_x, y - delta_y, z - delta_z)] \\\n",
    "                += spacing_inv * (-D_linear_minus - D_non_linear_minus) \\\n",
    "                    + delta_test\n",
    "            print(f\"{D_linear_minus=}\")\n",
    "\n",
    "        # From flux l\n",
    "        neutron_loss_matrix[index_in_flattened_flux_vector, index_in_flattened_flux_vector] \\\n",
    "            += spacing_inv * (D_linear_minus + D_linear_plus - D_non_linear_minus + D_non_linear_plus) \\\n",
    "                + delta_test\n",
    "        print(f\"{(D_linear_minus + D_linear_plus)=}\")\n",
    "\n",
    "        # From flux l+1\n",
    "        if not is_on_high_boundary:\n",
    "            neutron_loss_matrix[index_in_flattened_flux_vector, get_index_in_flattened_flux_vector(energy, x + delta_x, y + delta_y, z + delta_z)] \\\n",
    "                += spacing_inv * (-D_linear_plus + D_non_linear_plus) \\\n",
    "                    + delta_test\n",
    "            print(f\"{(D_linear_plus)=}\")\n",
    "\n",
    "    # Total XS\n",
    "    neutron_loss_matrix[index_in_flattened_flux_vector, index_in_flattened_flux_vector] \\\n",
    "        += get_totalXS_at_coordinate(x, y, z, energy) \\\n",
    "            + delta_test\n",
    "\n",
    "    # Scattering\n",
    "    for h_energy in range(current_max_energy_group):\n",
    "        neutron_loss_matrix[index_in_flattened_flux_vector, get_index_in_flattened_flux_vector(h_energy, x, y, z)] \\\n",
    "            -= get_scatter_xs(energy, h_energy, x, y, z) \\\n",
    "                - delta_test"
   ]
  },
  {
   "cell_type": "code",
   "execution_count": 19,
   "metadata": {},
   "outputs": [
    {
     "data": {
      "text/plain": [
       "array([0.        , 0.03666186, 0.03667386, 0.03664917, 0.03665753,\n",
       "       0.0366988 , 0.03667326, 0.03666499, 0.03669324, 0.0366538 ])"
      ]
     },
     "execution_count": 19,
     "metadata": {},
     "output_type": "execute_result"
    }
   ],
   "source": [
    "linear_diffusive_terms[1][NEGATIVE_DIR][0, :, 0, 0]"
   ]
  },
  {
   "cell_type": "code",
   "execution_count": 20,
   "metadata": {},
   "outputs": [],
   "source": [
    "# Generate neutron production matrix\n",
    "neutron_production_matrix = np.zeros((number_of_groups, number_of_groups))\n",
    "\n",
    "for x, y, z, energy in product(range(mesh_size_x), range(mesh_size_y), range(mesh_size_z), range(current_max_energy_group)):\n",
    "    index_in_flattened_flux_vector = get_index_in_flattened_flux_vector(energy, x, y, z)\n",
    "    for energy_group_h in range(current_max_energy_group):\n",
    "        neutron_production_matrix[index_in_flattened_flux_vector, get_index_in_flattened_flux_vector(energy_group_h, x, y, z)] \\\n",
    "            += get_nu_bar(energy, x, y, z) * get_fission_xs(energy, energy_group_h, x, y, z)\n"
   ]
  },
  {
   "cell_type": "code",
   "execution_count": 21,
   "metadata": {},
   "outputs": [
    {
     "data": {
      "image/png": "[encoded data removed]",
      "text/plain": [
       "<Figure size 640x480 with 1 Axes>"
      ]
     },
     "metadata": {},
     "output_type": "display_data"
    }
   ],
   "source": [
    "import matplotlib.pyplot as plt\n",
    "\n",
    "plt.imshow((neutron_loss_matrix != 0))\n",
    "\n",
    "print_matrix(neutron_loss_matrix)\n"
   ]
  },
  {
   "cell_type": "code",
   "execution_count": 22,
   "metadata": {},
   "outputs": [
    {
     "data": {
      "image/png": "[encoded data removed]",
      "text/plain": [
       "<Figure size 640x480 with 1 Axes>"
      ]
     },
     "metadata": {},
     "output_type": "display_data"
    }
   ],
   "source": [
    "import matplotlib.pyplot as plt\n",
    "\n",
    "plt.imshow(neutron_production_matrix != 0)\n",
    "\n",
    "print_matrix(neutron_production_matrix)"
   ]
  },
  {
   "cell_type": "code",
   "execution_count": 23,
   "metadata": {},
   "outputs": [],
   "source": [
    "from scipy.linalg import eig\n",
    "\n",
    "eigenvalues, eigenvectors = eig(neutron_loss_matrix, neutron_production_matrix, check_finite=True)"
   ]
  },
  {
   "cell_type": "code",
   "execution_count": 24,
   "metadata": {},
   "outputs": [],
   "source": [
    "def convert_flattened_flux_into_matrix(flattened_flux):\n",
    "    matrix = np.zeros((mesh_size_x, mesh_size_y, mesh_size_z, current_max_energy_group))\n",
    "    for x, y, z, energy in product(range(mesh_size_x), range(mesh_size_y), range(mesh_size_z), range(current_max_energy_group)):\n",
    "        index = get_index_in_flattened_flux_vector(energy, x, y, z)\n",
    "        matrix[x, y, z, energy] = flattened_flux[index]\n",
    "    return matrix"
   ]
  },
  {
   "cell_type": "code",
   "execution_count": 25,
   "metadata": {},
   "outputs": [
    {
     "name": "stdout",
     "output_type": "stream",
     "text": [
      "[[ 0.07283449 -0.13534283  0.21046194 -0.27228733  0.3168589  -0.37437261\n",
      "   0.41415622  0.35055277  0.4597459   0.417899  ]\n",
      " [-0.21120202  0.3548543  -0.45815519  0.44277461 -0.32006005  0.14731395\n",
      "   0.06439477  0.34244637  0.40382017  0.25072561]\n",
      " [ 0.32999006 -0.44266197  0.33160007 -0.00760011 -0.31109171  0.46037334\n",
      "  -0.33476303  0.33366451  0.30768013 -0.0100127 ]\n",
      " [-0.41145655  0.36120153  0.06209339 -0.42699074  0.31578083  0.13009289\n",
      "  -0.44260247  0.31430683  0.1741735  -0.26018581]\n",
      " [ 0.44734448 -0.13886846 -0.39936604  0.25613614  0.3225812  -0.36801665\n",
      "  -0.21514447  0.32111795  0.03887658 -0.42937035]\n",
      " [-0.4348604  -0.13933627  0.40680055  0.27131231 -0.32048112 -0.35682298\n",
      "   0.19642192  0.32083656 -0.10238062 -0.42827256]\n",
      " [ 0.38334666  0.3627934  -0.08464854 -0.4233117  -0.31353919  0.14948231\n",
      "   0.43736383  0.31307457 -0.22935927 -0.25645443]\n",
      " [-0.30435722 -0.45235305 -0.29432294  0.00652841  0.31954532  0.43243687\n",
      "   0.30013446  0.29392927 -0.32159452  0.01494048]\n",
      " [ 0.19625102  0.36712151  0.41940817  0.40685132  0.30995747  0.12867159\n",
      "  -0.07005647  0.28403704 -0.38899065  0.27310363]\n",
      " [-0.06764487 -0.14008927 -0.19316026 -0.25189659 -0.31210572 -0.3472954\n",
      "  -0.38107778  0.28032564 -0.42570399  0.43167838]]\n"
     ]
    },
    {
     "name": "stderr",
     "output_type": "stream",
     "text": [
      "/home/tom/.local/lib/python3.10/site-packages/matplotlib/cbook/__init__.py:1369: ComplexWarning: Casting complex values to real discards the imaginary part\n",
      "  return np.asarray(x, float)\n"
     ]
    },
    {
     "data": {
      "image/png": "[encoded data removed]",
      "text/plain": [
       "<Figure size 640x480 with 1 Axes>"
      ]
     },
     "metadata": {},
     "output_type": "display_data"
    }
   ],
   "source": [
    "plt.plot(1 / np.array(eigenvalues))\n",
    "plt.plot(sorted(1 / np.array(eigenvalues)))\n",
    "print(eigenvectors)"
   ]
  },
  {
   "cell_type": "code",
   "execution_count": 26,
   "metadata": {},
   "outputs": [],
   "source": [
    "# From stackoverflow\n",
    "def gauss_seidel(A, b, tolerance, max_iterations, x):\n",
    "    #x is the initial condition\n",
    "    iter1 = 0\n",
    "    #Iterate\n",
    "    for k in range(max_iterations):\n",
    "        iter1 = iter1 + 1\n",
    "        x_old  = x.copy()\n",
    "        \n",
    "        #Loop over rows\n",
    "        for i in range(A.shape[0]):\n",
    "            x[i] = (b[i] - np.dot(A[i,:i], x[:i]) - np.dot(A[i,(i+1):], x_old[(i+1):])) / A[i ,i]\n",
    "            \n",
    "        #Stop condition \n",
    "        #LnormInf corresponds to the absolute value of the greatest element of the vector.\n",
    "        \n",
    "        LnormInf = max(abs((x - x_old)))/max(abs(x_old))   \n",
    "        if  LnormInf < tolerance:\n",
    "            break\n",
    "    return x\n",
    "\n",
    "# From openmc\n",
    "\n",
    "def _check_convergence(s_n, s_o, k_n, k_o, iteration, innerits):\n",
    "    \"\"\"Checks the convergence of the CMFD problem\n",
    "\n",
    "    Parameters\n",
    "    ----------\n",
    "    s_n : numpy.ndarray\n",
    "        Source vector from current iteration\n",
    "    s_o : numpy.ndarray\n",
    "        Source vector from previous iteration\n",
    "    k_n : float\n",
    "        K-effective  from current iteration\n",
    "    k_o : float\n",
    "        K-effective from previous iteration\n",
    "    iteration : int\n",
    "        Iteration number\n",
    "    innerits : int\n",
    "        Number of iterations required for convergence in inner GS loop\n",
    "\n",
    "    Returns\n",
    "    -------\n",
    "    iconv : bool\n",
    "        Whether the power iteration has reached convergence\n",
    "    serr : float\n",
    "        Error in source from previous iteration to current iteration, used\n",
    "        for dominance ratio calculations\n",
    "\n",
    "    \"\"\"\n",
    "    # Calculate error in keff\n",
    "    kerr = abs(k_o - k_n) / k_n\n",
    "\n",
    "    # Calculate max error in source\n",
    "    with np.errstate(divide='ignore', invalid='ignore'):\n",
    "        serr = np.sqrt(np.sum(np.where(s_n > 0, ((s_n-s_o) / s_n)**2, 0))\n",
    "                        / len(s_n))\n",
    "\n",
    "    # Check for convergence\n",
    "    iconv = kerr < 1.e-5 and serr < 1.e-4\n",
    "\n",
    "    return iconv, serr\n",
    "\n",
    "def _execute_power_iter(loss, prod):\n",
    "    \"\"\"Main power iteration routine for the CMFD calculation\n",
    "\n",
    "    Parameters\n",
    "    ----------\n",
    "    loss : scipy.sparse.spmatrix\n",
    "        Sparse matrix storing elements of CMFD loss matrix\n",
    "    prod : scipy.sparse.spmatrix\n",
    "        Sparse matrix storing elements of CMFD production matrix\n",
    "\n",
    "    Returns\n",
    "    -------\n",
    "    phi_n : numpy.ndarray\n",
    "        Flux vector of CMFD problem\n",
    "    k_n : float\n",
    "        Eigenvalue of CMFD problem\n",
    "    dom : float\n",
    "        Dominance ratio of CMFD problem\n",
    "\n",
    "    \"\"\"\n",
    "    # Get problem size\n",
    "    n = loss.shape[0]\n",
    "\n",
    "    # Set up tolerances for C++ solver\n",
    "    atoli = 1.e-10\n",
    "    rtoli = 1.e-5\n",
    "    toli = rtoli * 100\n",
    "\n",
    "    # Set up flux vectors, intital guess set to 1\n",
    "    phi_n = np.ones((n,))\n",
    "    phi_o = np.ones((n,))\n",
    "\n",
    "    # Set up source vectors\n",
    "    s_n = np.zeros((n,))\n",
    "    s_o = np.zeros((n,))\n",
    "\n",
    "    # Set initial guess\n",
    "    k_n = 1.5\n",
    "    k_o = k_n\n",
    "    dw = 1.e6\n",
    "    k_s = k_o + dw\n",
    "    k_ln = 1.0/(1.0/k_n - 1.0/k_s)\n",
    "    k_lo = k_ln\n",
    "\n",
    "    # Set norms to 0\n",
    "    norm_n = 0.0\n",
    "    norm_o = 0.0\n",
    "\n",
    "    # Maximum number of power iterations\n",
    "    maxits = 10000\n",
    "\n",
    "    # Perform Wielandt shift\n",
    "    loss -= 1.0/k_s*prod\n",
    "\n",
    "    # Begin power iteration\n",
    "    for i in range(maxits):\n",
    "        if i % 20 == 0:\n",
    "            print(f\"Iteration {i}\")\n",
    "        # Check if reach max number of iterations\n",
    "        if i == maxits - 1:\n",
    "            raise RuntimeError('Reached maximum iterations in CMFD power '\n",
    "                                'iteration solver.')\n",
    "\n",
    "        # Compute source vector\n",
    "        s_o = prod.dot(phi_o)\n",
    "\n",
    "        # Normalize source vector\n",
    "        s_o /= k_lo\n",
    "\n",
    "        # Compute new flux with C++ solver\n",
    "        innerits = gauss_seidel(loss, s_o, toli, 10000, phi_n)\n",
    "\n",
    "        # Compute new source vector\n",
    "        s_n = prod.dot(phi_n)\n",
    "\n",
    "        # Compute new shifted eigenvalue\n",
    "        k_ln = np.sum(s_n) / np.sum(s_o)\n",
    "\n",
    "        # Compute new eigenvalue\n",
    "        k_n = 1.0/(1.0/k_ln + 1.0/k_s)\n",
    "\n",
    "        # Renormalize the old source\n",
    "        s_o *= k_lo\n",
    "\n",
    "        # Check convergence\n",
    "        iconv, norm_n = _check_convergence(s_n, s_o, k_n, k_o, i+1, innerits)\n",
    "\n",
    "        # If converged, calculate dominance ratio and break from loop\n",
    "        if iconv:\n",
    "            dom = norm_n / norm_o\n",
    "            return phi_n, k_n, dom\n",
    "\n",
    "        # Record old values if not converged\n",
    "        phi_o = phi_n\n",
    "        k_o = k_n\n",
    "        k_lo = k_ln\n",
    "        norm_o = norm_n\n",
    "\n",
    "        # Update tolerance for inner iterations\n",
    "        toli = max(atoli, rtoli*norm_n)"
   ]
  },
  {
   "cell_type": "code",
   "execution_count": 27,
   "metadata": {},
   "outputs": [
    {
     "name": "stdout",
     "output_type": "stream",
     "text": [
      "Iteration 0\n",
      "Iteration 20\n",
      "Iteration 40\n",
      "Iteration 60\n",
      "Iteration 80\n",
      "Iteration 100\n",
      "Iteration 120\n",
      "Iteration 140\n",
      "Iteration 160\n",
      "Iteration 180\n"
     ]
    }
   ],
   "source": [
    "mc_flux, mc_k, dominance = _execute_power_iter(neutron_loss_matrix, neutron_production_matrix)"
   ]
  },
  {
   "cell_type": "code",
   "execution_count": 28,
   "metadata": {},
   "outputs": [
    {
     "name": "stdout",
     "output_type": "stream",
     "text": [
      "1.8099437169875734\n"
     ]
    }
   ],
   "source": [
    "print(mc_k)"
   ]
  },
  {
   "cell_type": "code",
   "execution_count": 37,
   "metadata": {},
   "outputs": [
    {
     "data": {
      "text/plain": [
       "<matplotlib.legend.Legend at 0x7fe28727a650>"
      ]
     },
     "execution_count": 37,
     "metadata": {},
     "output_type": "execute_result"
    },
    {
     "data": {
      "image/png": "[encoded data removed]",
      "text/plain": [
       "<Figure size 640x480 with 1 Axes>"
      ]
     },
     "metadata": {},
     "output_type": "display_data"
    }
   ],
   "source": [
    "import matplotlib.pyplot as plt\n",
    "\n",
    "predicted_flux = convert_flattened_flux_into_matrix(mc_flux)\n",
    "y_flux = predicted_flux[0, :, 0, 0]\n",
    "grid = np.linspace(-25, 25, mesh_size_y)\n",
    "\n",
    "plt.plot(grid, y_flux  / np.linalg.norm(y_flux), label=\"CMFD\")\n",
    "\n",
    "total_flux = np.sum(flux_matrix[:, :, :, 0, 0, 0], axis=0)[:, 0]\n",
    "plt.plot(grid, total_flux / np.linalg.norm(total_flux), label=\"Measured\")\n",
    "\n",
    "plt.legend()"
   ]
  },
  {
   "cell_type": "code",
   "execution_count": 30,
   "metadata": {},
   "outputs": [
    {
     "data": {
      "text/plain": [
       "<matplotlib.colorbar.Colorbar at 0x7fe288eedb10>"
      ]
     },
     "execution_count": 30,
     "metadata": {},
     "output_type": "execute_result"
    },
    {
     "data": {
      "image/png": "[encoded data removed]",
      "text/plain": [
       "<Figure size 640x480 with 2 Axes>"
      ]
     },
     "metadata": {},
     "output_type": "display_data"
    }
   ],
   "source": [
    "import matplotlib.pyplot as plt\n",
    "\n",
    "fig, (ax1) = plt.subplots(1, 1, sharey=True)\n",
    "\n",
    "predicted_flux = convert_flattened_flux_into_matrix(mc_flux)\n",
    "total_flux = np.sum(predicted_flux[:, :, :, 0], axis=2).T\n",
    "img1 = ax1.imshow(total_flux, extent=[-30, 30, -100, 100])\n",
    "\n",
    "ax1.set_title(\"CMFD flux\")\n",
    "\n",
    "fig.colorbar(img1)"
   ]
  },
  {
   "cell_type": "code",
   "execution_count": 31,
   "metadata": {},
   "outputs": [
    {
     "data": {
      "text/plain": [
       "<matplotlib.colorbar.Colorbar at 0x7fe288bd71c0>"
      ]
     },
     "execution_count": 31,
     "metadata": {},
     "output_type": "execute_result"
    },
    {
     "data": {
      "image/png": "[encoded data removed]",
      "text/plain": [
       "<Figure size 640x480 with 2 Axes>"
      ]
     },
     "metadata": {},
     "output_type": "display_data"
    }
   ],
   "source": [
    "import matplotlib.pyplot as plt\n",
    "\n",
    "fig, (ax1) = plt.subplots(1, 1, sharey=True)\n",
    "\n",
    "total_flux = np.sum(flux_matrix[:, :, :, 0, 0, 0], axis=0)\n",
    "img1 = ax1.imshow(total_flux, extent=[-30, 30, -100, 100])\n",
    "\n",
    "ax1.set_title(\"Measured flux\")\n",
    "\n",
    "fig.colorbar(img1)"
   ]
  }
 ],
 "metadata": {
  "kernelspec": {
   "display_name": "Python 3.10.8 64-bit",
   "language": "python",
   "name": "python3"
  },
  "language_info": {
   "codemirror_mode": {
    "name": "ipython",
    "version": 3
   },
   "file_extension": ".py",
   "mimetype": "text/x-python",
   "name": "python",
   "nbconvert_exporter": "python",
   "pygments_lexer": "ipython3",
   "version": "3.10.9"
  },
  "orig_nbformat": 4,
  "vscode": {
   "interpreter": {
    "hash": "e7370f93d1d0cde622a1f8e1c04877d8463912d04d973331ad4851f04de6915a"
   }
  }
 },
 "nbformat": 4,
 "nbformat_minor": 2
}
