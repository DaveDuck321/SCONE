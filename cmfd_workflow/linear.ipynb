{
 "cells": [
  {
   "cell_type": "code",
   "execution_count": 32,
   "metadata": {},
   "outputs": [],
   "source": [
    "import numpy as np\n",
    "import json\n",
    "from itertools import product"
   ]
  },
  {
   "cell_type": "code",
   "execution_count": 33,
   "metadata": {},
   "outputs": [],
   "source": [
    "data = json.load(open(\"/home/tom/Programming/SCONE/cmfd_workflow/vacuum_boundary.json\"))"
   ]
  },
  {
   "cell_type": "code",
   "execution_count": 34,
   "metadata": {},
   "outputs": [],
   "source": [
    "current_data = data[\"active\"][\"current\"]\n",
    "current_matrix = np.array(current_data[\"JM\"])\n",
    "\n",
    "transport_data = data[\"active\"][\"TransportXS\"]\n",
    "transportXS_matrix = np.array(transport_data[\"transportXS\"])\n",
    "totalXS_matrix = np.array(transport_data[\"totalXS\"])\n",
    "raw_scatterXS = np.array(transport_data[\"scatterXS\"])\n",
    "scatterXS_matrix = np.array(transport_data[\"scatteringProductionXS\"])\n",
    "fissionXS_matrix = np.array(transport_data[\"fissionProductionXS\"])\n",
    "raw_fissionXS = np.array(transport_data[\"fissionXS\"])\n",
    "nu_bar_matrix = np.array(transport_data[\"nuBar\"])\n",
    "flux_matrix = np.array(data[\"active\"][\"fluxMap\"][\"Res\"])\n",
    "\n",
    "# TODO: properly extract spacing\n",
    "spacing = [2, 50/10, 2]\n",
    "\n",
    "beta = 0"
   ]
  },
  {
   "cell_type": "code",
   "execution_count": 35,
   "metadata": {},
   "outputs": [
    {
     "data": {
      "text/plain": [
       "(1, 10, 1, 1, 1, 2)"
      ]
     },
     "execution_count": 35,
     "metadata": {},
     "output_type": "execute_result"
    }
   ],
   "source": [
    "flux_matrix.shape"
   ]
  },
  {
   "cell_type": "code",
   "execution_count": 36,
   "metadata": {},
   "outputs": [],
   "source": [
    "current_max_x = len(current_data[\"XBounds\"]) + 1\n",
    "current_max_y = len(current_data[\"YBounds\"]) + 1\n",
    "current_max_z = len(current_data[\"ZBounds\"]) + 1\n",
    "current_max_energy_group = len(transport_data[\"EnergyBounds\"][0])\n",
    "\n",
    "mesh_size_x = len(current_data[\"XBounds\"])\n",
    "mesh_size_y = len(current_data[\"YBounds\"])\n",
    "mesh_size_z = len(current_data[\"ZBounds\"])"
   ]
  },
  {
   "cell_type": "code",
   "execution_count": 37,
   "metadata": {},
   "outputs": [
    {
     "name": "stdout",
     "output_type": "stream",
     "text": [
      "(1, 3, 2, 11, 2, 2)\n",
      "(1, 10, 1, 1, 1, 2)\n",
      "(1, 10, 1, 1, 2)\n",
      "(1, 10, 1, 1, 1, 2)\n",
      "(1, 10, 1, 1, 1, 2)\n",
      "\n",
      "0 0 1 1 0 0 -1174.9\n",
      "0 0 1 1 1 0 1183.47\n",
      "0 0 1 2 0 0 -2297.24\n",
      "0 0 1 2 1 0 2285.75\n",
      "0 0 1 3 0 0 -2660.62\n",
      "0 0 1 3 1 0 2643.63\n",
      "0 0 1 4 0 0 -2754.62\n",
      "0 0 1 4 1 0 2746.96\n",
      "0 0 1 5 0 0 -2810.33\n",
      "0 0 1 5 1 0 2797.8\n",
      "0 0 1 6 0 0 -2796.06\n",
      "0 0 1 6 1 0 2782.35\n",
      "0 0 1 7 0 0 -2931.91\n",
      "0 0 1 7 1 0 2924.63\n",
      "0 0 1 8 0 0 -2783.15\n",
      "0 0 1 8 1 0 2800.2\n",
      "0 0 1 9 0 0 -2304.33\n",
      "0 0 1 9 1 0 2303.88\n",
      "0 0 1 10 0 0 -1111.86\n",
      "0 0 1 10 1 0 1098.55\n",
      "0 1 1 0 1 0 -155.47\n",
      "0 1 1 1 1 0 -110.043\n",
      "0 1 1 2 1 0 -30.9652\n",
      "0 1 1 3 1 0 -9.55745\n",
      "0 1 1 4 1 0 -1.26533\n",
      "0 1 1 5 1 0 6.10579\n",
      "0 1 1 6 1 0 -9.52527\n",
      "0 1 1 7 1 0 25.7676\n",
      "0 1 1 8 1 0 37.9619\n",
      "0 1 1 9 1 0 104.69\n",
      "0 1 1 10 1 0 160.015\n",
      "0 2 0 1 1 0 -1158.92\n",
      "0 2 0 2 1 0 -2328.41\n",
      "0 2 0 3 1 0 -2642.76\n",
      "0 2 0 4 1 0 -2781.49\n",
      "0 2 0 5 1 0 -2795.12\n",
      "0 2 0 6 1 0 -2782.59\n",
      "0 2 0 7 1 0 -2931.65\n",
      "0 2 0 8 1 0 -2802.75\n",
      "0 2 0 9 1 0 -2309.4\n",
      "0 2 0 10 1 0 -1101.52\n",
      "0 2 1 1 1 0 1178.5\n",
      "0 2 1 2 1 0 2289.14\n",
      "0 2 1 3 1 0 2630.97\n",
      "0 2 1 4 1 0 2750.99\n",
      "0 2 1 5 1 0 2799.46\n",
      "0 2 1 6 1 0 2815.49\n",
      "0 2 1 7 1 0 2927.28\n",
      "0 2 1 8 1 0 2810.81\n",
      "0 2 1 9 1 0 2289.63\n",
      "0 2 1 10 1 0 1092.88\n"
     ]
    }
   ],
   "source": [
    "print(current_matrix.shape)\n",
    "print(flux_matrix.shape)\n",
    "print(transportXS_matrix.shape)\n",
    "\n",
    "print(scatterXS_matrix.shape)\n",
    "print(fissionXS_matrix.shape)\n",
    "\n",
    "print()\n",
    "\n",
    "for i0, i0_l in enumerate(current_matrix):\n",
    "    for i1, i1_l in enumerate(i0_l):\n",
    "        for i2, i2_l in enumerate(i1_l):\n",
    "            for i3, i3_l in enumerate(i2_l):\n",
    "                for i4, i4_l in enumerate(i3_l):\n",
    "                    if current_matrix[i0, i1, i2, i3, i4, 0]:\n",
    "                        print(i0, i1, i2, i3, i4, 0, current_matrix[i0, i1, i2, i3, i4, 0])\n"
   ]
  },
  {
   "cell_type": "code",
   "execution_count": 38,
   "metadata": {},
   "outputs": [],
   "source": [
    "def print_matrix(matrix):\n",
    "    return\n",
    "    for row in matrix:\n",
    "        for item in row:\n",
    "            rounded = round(item, 4)\n",
    "            if item == 0:\n",
    "                print(f\"{'--':<8}\", end=\" \")\n",
    "            else:\n",
    "                print(f\"{rounded:<8}\", end=\" \")\n",
    "        print(\"\\n\")"
   ]
  },
  {
   "cell_type": "code",
   "execution_count": 39,
   "metadata": {},
   "outputs": [],
   "source": [
    "def get_current_on_cell_boundary_plus_half(direction, x, y, z, energy_group):\n",
    "    # coord, direction, energy, mean/ std\n",
    "    return current_matrix[energy_group, direction, z + 1, y + 1, x + 1, 0] / ((spacing[0] * spacing[1] * spacing[2]) / spacing[direction])\n",
    "\n",
    "def get_flux_at_coordinate(x, y, z, energy_group):\n",
    "    return flux_matrix[z, y, x, energy_group, 0, 0] / (spacing[0] * spacing[1] * spacing[2])\n",
    "\n",
    "def get_transportXS_at_coordinate(x, y, z, energy_group):\n",
    "    return transportXS_matrix[z, y, x, energy_group, 0]\n",
    "\n",
    "def get_totalXS_at_coordinate(x, y, z, energy_group):\n",
    "    return totalXS_matrix[z, y, x, energy_group, 0]\n",
    "\n",
    "def get_scatter_xs(energy_to, energy_from, x, y, z):\n",
    "    # TODO: check this\n",
    "    return scatterXS_matrix[z, y, x, energy_from, energy_to, 0]\n",
    "\n",
    "def get_raw_scatter_xs(energy, x, y, z):\n",
    "    # TODO: check this\n",
    "    return raw_scatterXS[z, y, x, energy, 0]\n",
    "\n",
    "def get_raw_fission_xs(energy, x, y, z):\n",
    "    # TODO: check this\n",
    "    return raw_fissionXS[z, y, x, energy, 0]\n",
    "\n",
    "def get_nu_bar(energy, x, y, z):\n",
    "    # TODO: check this\n",
    "    return nu_bar_matrix[z, y, x, energy, 0]\n",
    "\n",
    "def get_fission_xs(energy_to, energy_from, x, y, z):\n",
    "    # TODO: check this\n",
    "    return fissionXS_matrix[z, y, x, energy_from, energy_to, 0]"
   ]
  },
  {
   "cell_type": "code",
   "execution_count": 40,
   "metadata": {},
   "outputs": [],
   "source": [
    "# print(get_raw_scatter_xs(0, 0, 5, 0))\n",
    "# print(get_scatter_xs(0, 0, 0, 5, 0))\n",
    "\n",
    "# print()\n",
    "\n",
    "# print(get_raw_fission_xs(0, 0, 5, 0))\n",
    "# print(get_fission_xs(0, 0, 0, 5, 0))\n",
    "# print(get_nu_bar(0, 0, 5, 0))\n",
    "\n",
    "# print()\n",
    "\n",
    "# print(get_transportXS_at_coordinate(0, 5, 0, 0))\n",
    "# print(get_totalXS_at_coordinate(0, 5, 0, 0))"
   ]
  },
  {
   "cell_type": "code",
   "execution_count": 41,
   "metadata": {},
   "outputs": [],
   "source": [
    "# # Calculate k_inf\n",
    "# # Do I need to remove scattering multiplicity here?\n",
    "# absorption_xs = get_totalXS_at_coordinate(0, 5, 0, 0) - get_scatter_xs(0, 0, 0, 5, 0)\n",
    "# print(absorption_xs)\n",
    "\n",
    "# # Assume utilization factor = 1\n",
    "\n",
    "# eta = get_nu_bar(0, 0, 5, 0) * get_fission_xs(0, 0, 0, 5, 0) / absorption_xs\n",
    "# k_inf = eta * absorption_xs\n",
    "# print(eta)"
   ]
  },
  {
   "cell_type": "code",
   "execution_count": 42,
   "metadata": {},
   "outputs": [],
   "source": [
    "diffusion_coefficient = np.zeros((mesh_size_x, mesh_size_y, mesh_size_z, current_max_energy_group))\n",
    "\n",
    "for x, y, z, energy in product(range(mesh_size_x), range(mesh_size_y), range(mesh_size_z), range(current_max_energy_group)):\n",
    "    transport_XS = get_transportXS_at_coordinate(x, y, z, energy)\n",
    "    assert transport_XS > 0\n",
    "    diffusion_coefficient[x, y, z, energy] = 1.0 / (3.0 * transport_XS)\n"
   ]
  },
  {
   "cell_type": "code",
   "execution_count": 43,
   "metadata": {},
   "outputs": [],
   "source": [
    "def build_linear_diffusive_term(direction):\n",
    "    linear_diffusive_term_positive = np.zeros((mesh_size_x, mesh_size_y, mesh_size_z, current_max_energy_group))\n",
    "    linear_diffusive_term_negative = np.zeros((mesh_size_x, mesh_size_y, mesh_size_z, current_max_energy_group))\n",
    "\n",
    "    for x, y, z, energy in product(range(mesh_size_x), range(mesh_size_y), range(mesh_size_z), range(current_max_energy_group)):\n",
    "        D = diffusion_coefficient[x, y, z, energy]\n",
    "\n",
    "        is_on_high_boundary = [x == mesh_size_x - 1, y == mesh_size_y - 1, z == mesh_size_z - 1][direction]\n",
    "        is_on_low_boundary = [x == 0, y == 0, z == 0][direction]\n",
    "        delta_x, delta_y, delta_z = [(1, 0, 0), (0, 1, 0), (0, 0, 1)][direction]\n",
    "\n",
    "        if is_on_low_boundary:\n",
    "            coupling = (2 * D * (1 - beta)) / (4 * D * (1 + beta) + (1 - beta) * spacing[direction])\n",
    "        else:\n",
    "            D_minus_1 = diffusion_coefficient[x - delta_x, y - delta_y, z - delta_z, energy]\n",
    "            coupling = (2 * D_minus_1 * D) / ((D_minus_1 + D) * spacing[direction])\n",
    "\n",
    "        linear_diffusive_term_negative[x, y, z, energy] = coupling\n",
    "\n",
    "        if is_on_high_boundary:\n",
    "            coupling = (2 * D * (1 - beta)) / (4 * D * (1 + beta) + (1 - beta) * spacing[direction])\n",
    "        else:\n",
    "            D_plus_1 = diffusion_coefficient[x + delta_x, y + delta_y, z + delta_z, energy]\n",
    "            coupling = (2 * D_plus_1 * D) / ((D_plus_1 + D) * spacing[direction])\n",
    "        \n",
    "        linear_diffusive_term_positive[x, y, z, energy] = coupling\n",
    "    return linear_diffusive_term_negative, linear_diffusive_term_positive"
   ]
  },
  {
   "cell_type": "code",
   "execution_count": 44,
   "metadata": {},
   "outputs": [],
   "source": [
    "POSITIVE_DIR = 1\n",
    "NEGATIVE_DIR = 0\n",
    "linear_diffusive_terms = [build_linear_diffusive_term(0), build_linear_diffusive_term(1), build_linear_diffusive_term(2)]"
   ]
  },
  {
   "cell_type": "code",
   "execution_count": 45,
   "metadata": {},
   "outputs": [],
   "source": [
    "def build_non_linear_diffusive_term(direction):\n",
    "    non_linear_diffusive_term_positive = np.zeros((mesh_size_x, mesh_size_y, mesh_size_z, current_max_energy_group))\n",
    "    non_linear_diffusive_term_negative = np.zeros((mesh_size_x, mesh_size_y, mesh_size_z, current_max_energy_group))\n",
    "\n",
    "    for x, y, z, energy in product(range(mesh_size_x), range(mesh_size_y), range(mesh_size_z), range(current_max_energy_group)):\n",
    "        flux = get_flux_at_coordinate(x, y, z, energy)\n",
    "\n",
    "        is_on_high_boundary = [x == mesh_size_x - 1, y == mesh_size_y - 1, z == mesh_size_z - 1][direction]\n",
    "        is_on_low_boundary = [x == 0, y == 0, z == 0][direction]\n",
    "        delta_x, delta_y, delta_z = [(1, 0, 0), (0, 1, 0), (0, 0, 1)][direction]\n",
    "\n",
    "        J_minus_half_tallied = get_current_on_cell_boundary_plus_half(direction, x - delta_x, y - delta_y, z - delta_z, energy)\n",
    "        D_linear = linear_diffusive_terms[direction][NEGATIVE_DIR][x, y, z, energy]\n",
    "\n",
    "        if is_on_low_boundary:\n",
    "            non_linear_term = (J_minus_half_tallied + D_linear * flux) / flux\n",
    "        else:\n",
    "            flux_minus_1 = get_flux_at_coordinate(x - delta_x, y - delta_y, z - delta_z, energy)\n",
    "\n",
    "            print(f\"Current-: {J_minus_half_tallied}, Linear estimate: {-D_linear * (-flux_minus_1 + flux)}\")\n",
    "            non_linear_term = (J_minus_half_tallied + D_linear * (-flux_minus_1 + flux)) / (flux_minus_1 + flux)\n",
    "\n",
    "        non_linear_diffusive_term_negative[x, y, z, energy] = non_linear_term\n",
    "\n",
    "        J_plus_half_tallied = get_current_on_cell_boundary_plus_half(direction, x, y, z, energy)\n",
    "        D_linear = linear_diffusive_terms[direction][POSITIVE_DIR][x, y, z, energy]\n",
    "        if is_on_high_boundary:\n",
    "            non_linear_term = (J_plus_half_tallied - D_linear * flux) / flux\n",
    "        else:\n",
    "            flux_plus_1 = get_flux_at_coordinate(x + delta_x, y + delta_y, z + delta_z, energy)\n",
    "\n",
    "            print(f\"Current+: {J_plus_half_tallied}, Linear estimate: {-D_linear * (flux_plus_1 - flux)}\")\n",
    "            non_linear_term = (J_plus_half_tallied + D_linear * (flux_plus_1 - flux)) / (flux_plus_1 + flux)\n",
    "        \n",
    "        non_linear_diffusive_term_positive[x, y, z, energy] = non_linear_term\n",
    "\n",
    "\n",
    "        non_linear_diffusive_term_negative[x, y, z, energy] = 0\n",
    "        non_linear_diffusive_term_positive[x, y, z, energy] = 0\n",
    "\n",
    "    return non_linear_diffusive_term_negative, non_linear_diffusive_term_positive"
   ]
  },
  {
   "cell_type": "code",
   "execution_count": 46,
   "metadata": {},
   "outputs": [
    {
     "name": "stdout",
     "output_type": "stream",
     "text": [
      "Current+: -27.51075, Linear estimate: -27.635605312259905\n",
      "Current-: -27.51075, Linear estimate: -27.635605312259905\n",
      "Current+: -7.7413, Linear estimate: -8.835439070604387\n",
      "Current-: -7.7413, Linear estimate: -8.835439070604387\n",
      "Current+: -2.3893625, Linear estimate: -2.9165530212163757\n",
      "Current-: -2.3893625, Linear estimate: -2.9165530212163757\n",
      "Current+: -0.3163325, Linear estimate: -1.1394422223607639\n",
      "Current-: -0.3163325, Linear estimate: -1.1394422223607639\n",
      "Current+: 1.5264475, Linear estimate: 0.33150501965164225\n",
      "Current-: 1.5264475, Linear estimate: 0.33150501965164225\n",
      "Current+: -2.3813175, Linear estimate: -3.249455556176634\n",
      "Current-: -2.3813175, Linear estimate: -3.249455556176634\n",
      "Current+: 6.4419, Linear estimate: 2.8832960465006794\n",
      "Current-: 6.4419, Linear estimate: 2.8832960465006794\n",
      "Current+: 9.490475, Linear estimate: 12.693208584785106\n",
      "Current-: 9.490475, Linear estimate: 12.693208584785106\n",
      "Current+: 26.1725, Linear estimate: 29.679691037071382\n",
      "Current-: 26.1725, Linear estimate: 29.679691037071382\n"
     ]
    }
   ],
   "source": [
    "non_linear_diffusive_terms = [build_non_linear_diffusive_term(0), build_non_linear_diffusive_term(1), build_non_linear_diffusive_term(2)]"
   ]
  },
  {
   "cell_type": "code",
   "execution_count": 47,
   "metadata": {},
   "outputs": [
    {
     "data": {
      "image/png": "[encoded data removed]",
      "text/plain": [
       "<Figure size 640x480 with 1 Axes>"
      ]
     },
     "metadata": {},
     "output_type": "display_data"
    }
   ],
   "source": [
    "from matplotlib import pyplot as plt\n",
    "\n",
    "for x, z, energy in product(range(mesh_size_x), range(mesh_size_z), range(current_max_energy_group)):\n",
    "    plt.plot(non_linear_diffusive_terms[1][POSITIVE_DIR][x, :, z, 0])\n",
    "    plt.plot(non_linear_diffusive_terms[1][NEGATIVE_DIR][x, :, z, 0])"
   ]
  },
  {
   "cell_type": "code",
   "execution_count": 48,
   "metadata": {},
   "outputs": [
    {
     "name": "stdout",
     "output_type": "stream",
     "text": [
      "[13226.1 25815.5 29846.7 31178.  31698.9 31547.5 33029.9 31713.4 25917.7\n",
      " 12380.6]\n"
     ]
    }
   ],
   "source": [
    "print(flux_matrix[0, :, 0, 0, 0, 0])"
   ]
  },
  {
   "cell_type": "code",
   "execution_count": 49,
   "metadata": {},
   "outputs": [
    {
     "name": "stdout",
     "output_type": "stream",
     "text": [
      "group\n",
      "(D_linear_minus + D_linear_plus)=0.30572812209558287\n",
      "group\n",
      "(D_linear_minus + D_linear_plus)=0.11878466136116067\n",
      "(D_linear_plus)=0.043902974426517395\n",
      "group\n",
      "(D_linear_minus + D_linear_plus)=0.30572812209558287\n",
      "group\n",
      "(D_linear_minus + D_linear_plus)=0.30444922091444365\n",
      "group\n",
      "D_linear_minus=0.043902974426517395\n",
      "(D_linear_minus + D_linear_plus)=0.08773825459423118\n",
      "(D_linear_plus)=0.043835280167713785\n",
      "group\n",
      "(D_linear_minus + D_linear_plus)=0.30444922091444365\n",
      "group\n",
      "(D_linear_minus + D_linear_plus)=0.30507197410549086\n",
      "group\n",
      "D_linear_minus=0.043835280167713785\n",
      "(D_linear_minus + D_linear_plus)=0.08765039353384274\n",
      "(D_linear_plus)=0.04381511336612895\n",
      "group\n",
      "(D_linear_minus + D_linear_plus)=0.30507197410549086\n",
      "group\n",
      "(D_linear_minus + D_linear_plus)=0.3042546976925324\n",
      "group\n",
      "D_linear_minus=0.04381511336612895\n",
      "(D_linear_minus + D_linear_plus)=0.08756409483515412\n",
      "(D_linear_plus)=0.04374898146902517\n",
      "group\n",
      "(D_linear_minus + D_linear_plus)=0.3042546976925324\n",
      "group\n",
      "(D_linear_minus + D_linear_plus)=0.3044311475684323\n",
      "group\n",
      "D_linear_minus=0.04374898146902517\n",
      "(D_linear_minus + D_linear_plus)=0.08754092594083959\n",
      "(D_linear_plus)=0.04379194447181441\n",
      "group\n",
      "(D_linear_minus + D_linear_plus)=0.3044311475684323\n",
      "group\n",
      "(D_linear_minus + D_linear_plus)=0.30467044559576023\n",
      "group\n",
      "D_linear_minus=0.04379194447181441\n",
      "(D_linear_minus + D_linear_plus)=0.08763241338946995\n",
      "(D_linear_plus)=0.04384046891765554\n",
      "group\n",
      "(D_linear_minus + D_linear_plus)=0.30467044559576023\n",
      "group\n",
      "(D_linear_minus + D_linear_plus)=0.30490035856282166\n",
      "group\n",
      "D_linear_minus=0.04384046891765554\n",
      "(D_linear_minus + D_linear_plus)=0.08764291550330958\n",
      "(D_linear_plus)=0.04380244658565404\n",
      "group\n",
      "(D_linear_minus + D_linear_plus)=0.30490035856282166\n",
      "group\n",
      "(D_linear_minus + D_linear_plus)=0.30430330519034926\n",
      "group\n",
      "D_linear_minus=0.04380244658565404\n",
      "(D_linear_minus + D_linear_plus)=0.08760460537504998\n",
      "(D_linear_plus)=0.04380215878939594\n",
      "group\n",
      "(D_linear_minus + D_linear_plus)=0.30430330519034926\n",
      "group\n",
      "(D_linear_minus + D_linear_plus)=0.3048975696614722\n",
      "group\n",
      "D_linear_minus=0.04380215878939594\n",
      "(D_linear_minus + D_linear_plus)=0.08765156676757646\n",
      "(D_linear_plus)=0.04384940797818053\n",
      "group\n",
      "(D_linear_minus + D_linear_plus)=0.3048975696614722\n",
      "group\n",
      "(D_linear_minus + D_linear_plus)=0.3047595827841311\n",
      "group\n",
      "D_linear_minus=0.04384940797818053\n",
      "(D_linear_minus + D_linear_plus)=0.11844078707954088\n",
      "group\n",
      "(D_linear_minus + D_linear_plus)=0.3047595827841311\n"
     ]
    }
   ],
   "source": [
    "# Generate neutron loss matrix\n",
    "\n",
    "delta_test = 0\n",
    "number_of_groups = mesh_size_x * mesh_size_y * mesh_size_z * current_max_energy_group\n",
    "neutron_loss_matrix = np.zeros((number_of_groups, number_of_groups))\n",
    "\n",
    "def get_index_in_flattened_flux_vector(energy, x, y, z):\n",
    "    return energy * (mesh_size_x * mesh_size_y * mesh_size_z) + z * (mesh_size_y * mesh_size_x) + y * mesh_size_x + x\n",
    "\n",
    "for x, y, z, energy in product(range(mesh_size_x), range(mesh_size_y), range(mesh_size_z), range(current_max_energy_group)):\n",
    "    index_in_flattened_flux_vector = get_index_in_flattened_flux_vector(energy, x, y, z)\n",
    "\n",
    "    for direction in range(3):\n",
    "        spacing_inv = (1 / spacing[direction])\n",
    "\n",
    "        is_on_high_boundary = [x == mesh_size_x - 1, y == mesh_size_y - 1, z == mesh_size_z - 1][direction]\n",
    "        is_on_low_boundary = [x == 0, y == 0, z == 0][direction]\n",
    "        delta_x, delta_y, delta_z = [(1, 0, 0), (0, 1, 0), (0, 0, 1)][direction]    \n",
    "\n",
    "        # From flux l-1\n",
    "        D_linear_minus = linear_diffusive_terms[direction][NEGATIVE_DIR][x, y, z, energy]\n",
    "        D_linear_plus = linear_diffusive_terms[direction][POSITIVE_DIR][x, y, z, energy]\n",
    "\n",
    "        D_non_linear_minus = non_linear_diffusive_terms[direction][NEGATIVE_DIR][x, y, z, energy]\n",
    "        D_non_linear_plus = non_linear_diffusive_terms[direction][POSITIVE_DIR][x, y, z, energy]\n",
    "\n",
    "        print(\"group\")\n",
    "        if not is_on_low_boundary:\n",
    "            neutron_loss_matrix[index_in_flattened_flux_vector, get_index_in_flattened_flux_vector(energy, x - delta_x, y - delta_y, z - delta_z)] \\\n",
    "                += spacing_inv * (-D_linear_minus - D_non_linear_minus) \\\n",
    "                    + delta_test\n",
    "            print(f\"{D_linear_minus=}\")\n",
    "\n",
    "        # From flux l\n",
    "        neutron_loss_matrix[index_in_flattened_flux_vector, index_in_flattened_flux_vector] \\\n",
    "            += spacing_inv * (D_linear_minus + D_linear_plus - D_non_linear_minus + D_non_linear_plus) \\\n",
    "                + delta_test\n",
    "        print(f\"{(D_linear_minus + D_linear_plus)=}\")\n",
    "\n",
    "        # From flux l+1\n",
    "        if not is_on_high_boundary:\n",
    "            neutron_loss_matrix[index_in_flattened_flux_vector, get_index_in_flattened_flux_vector(energy, x + delta_x, y + delta_y, z + delta_z)] \\\n",
    "                += spacing_inv * (-D_linear_plus + D_non_linear_plus) \\\n",
    "                    + delta_test\n",
    "            print(f\"{(D_linear_plus)=}\")\n",
    "\n",
    "    # Total XS\n",
    "    neutron_loss_matrix[index_in_flattened_flux_vector, index_in_flattened_flux_vector] \\\n",
    "        += get_totalXS_at_coordinate(x, y, z, energy) \\\n",
    "            + delta_test\n",
    "\n",
    "    # Scattering\n",
    "    for h_energy in range(current_max_energy_group):\n",
    "        neutron_loss_matrix[index_in_flattened_flux_vector, get_index_in_flattened_flux_vector(h_energy, x, y, z)] \\\n",
    "            -= get_scatter_xs(energy, h_energy, x, y, z) \\\n",
    "                - delta_test"
   ]
  },
  {
   "cell_type": "code",
   "execution_count": 50,
   "metadata": {},
   "outputs": [
    {
     "data": {
      "text/plain": [
       "array([0.07488169, 0.04390297, 0.04383528, 0.04381511, 0.04374898,\n",
       "       0.04379194, 0.04384047, 0.04380245, 0.04380216, 0.04384941])"
      ]
     },
     "execution_count": 50,
     "metadata": {},
     "output_type": "execute_result"
    }
   ],
   "source": [
    "linear_diffusive_terms[1][NEGATIVE_DIR][0, :, 0, 0]"
   ]
  },
  {
   "cell_type": "code",
   "execution_count": 51,
   "metadata": {},
   "outputs": [],
   "source": [
    "# Generate neutron production matrix\n",
    "neutron_production_matrix = np.zeros((number_of_groups, number_of_groups))\n",
    "\n",
    "for x, y, z, energy in product(range(mesh_size_x), range(mesh_size_y), range(mesh_size_z), range(current_max_energy_group)):\n",
    "    index_in_flattened_flux_vector = get_index_in_flattened_flux_vector(energy, x, y, z)\n",
    "    for energy_group_h in range(current_max_energy_group):\n",
    "        neutron_production_matrix[index_in_flattened_flux_vector, get_index_in_flattened_flux_vector(energy_group_h, x, y, z)] \\\n",
    "            += get_nu_bar(energy, x, y, z) * get_fission_xs(energy, energy_group_h, x, y, z)\n"
   ]
  },
  {
   "cell_type": "code",
   "execution_count": 52,
   "metadata": {},
   "outputs": [
    {
     "data": {
      "image/png": "[encoded data removed]",
      "text/plain": [
       "<Figure size 640x480 with 1 Axes>"
      ]
     },
     "metadata": {},
     "output_type": "display_data"
    }
   ],
   "source": [
    "import matplotlib.pyplot as plt\n",
    "\n",
    "plt.imshow((neutron_loss_matrix != 0))\n",
    "\n",
    "print_matrix(neutron_loss_matrix)\n"
   ]
  },
  {
   "cell_type": "code",
   "execution_count": 53,
   "metadata": {},
   "outputs": [
    {
     "data": {
      "image/png": "[encoded data removed]",
      "text/plain": [
       "<Figure size 640x480 with 1 Axes>"
      ]
     },
     "metadata": {},
     "output_type": "display_data"
    }
   ],
   "source": [
    "import matplotlib.pyplot as plt\n",
    "\n",
    "plt.imshow(neutron_production_matrix != 0)\n",
    "\n",
    "print_matrix(neutron_production_matrix)"
   ]
  },
  {
   "cell_type": "code",
   "execution_count": 54,
   "metadata": {},
   "outputs": [],
   "source": [
    "from scipy.linalg import eig\n",
    "\n",
    "eigenvalues, eigenvectors = eig(neutron_loss_matrix, neutron_production_matrix, check_finite=True)"
   ]
  },
  {
   "cell_type": "code",
   "execution_count": 55,
   "metadata": {},
   "outputs": [],
   "source": [
    "def convert_flattened_flux_into_matrix(flattened_flux):\n",
    "    matrix = np.zeros((mesh_size_x, mesh_size_y, mesh_size_z, current_max_energy_group))\n",
    "    for x, y, z, energy in product(range(mesh_size_x), range(mesh_size_y), range(mesh_size_z), range(current_max_energy_group)):\n",
    "        index = get_index_in_flattened_flux_vector(energy, x, y, z)\n",
    "        matrix[x, y, z, energy] = flattened_flux[index]\n",
    "    return matrix"
   ]
  },
  {
   "cell_type": "code",
   "execution_count": 56,
   "metadata": {},
   "outputs": [
    {
     "name": "stdout",
     "output_type": "stream",
     "text": [
      "[[-0.06906239 -0.13375351 -0.24620445 -0.28656033 -0.28109602 -0.39355153\n",
      "  -0.47659758  0.23880381 -0.42121592  0.37377654]\n",
      " [-0.19156892 -0.328506   -0.49897501 -0.43053914 -0.24532606 -0.09693006\n",
      "   0.13189457 -0.2695939   0.43531806 -0.2661709 ]\n",
      " [-0.29653686 -0.3883872  -0.33180049  0.01445484  0.28126142  0.45499255\n",
      "   0.32532385  0.30210519 -0.41044237  0.04870839]\n",
      " [-0.43885465 -0.37376906  0.04153659  0.44310071  0.30896421 -0.08518594\n",
      "  -0.4322947  -0.26654132  0.25388337  0.20012751]\n",
      " [-0.47212448 -0.14617543  0.37377054  0.19343586 -0.33308662 -0.38764409\n",
      "   0.24767217  0.28030618 -0.11966372 -0.40221898]\n",
      " [-0.4466614   0.1460571   0.37852696 -0.32720857 -0.29667664  0.34311184\n",
      "   0.13683064 -0.30771181 -0.02007515  0.45520796]\n",
      " [-0.36759599  0.37379729  0.05368791 -0.39004199  0.34194358  0.16060544\n",
      "  -0.40966783  0.34837048  0.1586008  -0.33716814]\n",
      " [-0.29199501  0.4861986  -0.31114574  0.04063452  0.33248828 -0.42760785\n",
      "   0.29270108 -0.35510604 -0.2666044   0.04522117]\n",
      " [-0.17721449  0.3781077  -0.40063164  0.41394974 -0.35671558  0.12755349\n",
      "   0.05859237  0.3816313   0.36389507  0.26314749]\n",
      " [-0.06167192  0.14787501 -0.18815846  0.2575866  -0.36407373  0.35852579\n",
      "  -0.35460598 -0.3763206  -0.39595639 -0.43937719]]\n"
     ]
    },
    {
     "data": {
      "image/png": "[encoded data removed]",
      "text/plain": [
       "<Figure size 640x480 with 1 Axes>"
      ]
     },
     "metadata": {},
     "output_type": "display_data"
    }
   ],
   "source": [
    "plt.plot(1 / np.array(eigenvalues))\n",
    "plt.plot(sorted(1 / np.array(eigenvalues)))\n",
    "print(eigenvectors)"
   ]
  },
  {
   "cell_type": "code",
   "execution_count": 57,
   "metadata": {},
   "outputs": [],
   "source": [
    "# From stackoverflow\n",
    "def gauss_seidel(A, b, tolerance, max_iterations, x):\n",
    "    #x is the initial condition\n",
    "    iter1 = 0\n",
    "    #Iterate\n",
    "    for k in range(max_iterations):\n",
    "        iter1 = iter1 + 1\n",
    "        x_old  = x.copy()\n",
    "        \n",
    "        #Loop over rows\n",
    "        for i in range(A.shape[0]):\n",
    "            x[i] = (b[i] - np.dot(A[i,:i], x[:i]) - np.dot(A[i,(i+1):], x_old[(i+1):])) / A[i ,i]\n",
    "            \n",
    "        #Stop condition \n",
    "        #LnormInf corresponds to the absolute value of the greatest element of the vector.\n",
    "        \n",
    "        LnormInf = max(abs((x - x_old)))/max(abs(x_old))   \n",
    "        if  LnormInf < tolerance:\n",
    "            break\n",
    "    return x\n",
    "\n",
    "# From openmc\n",
    "\n",
    "def _check_convergence(s_n, s_o, k_n, k_o, iteration, innerits):\n",
    "    \"\"\"Checks the convergence of the CMFD problem\n",
    "\n",
    "    Parameters\n",
    "    ----------\n",
    "    s_n : numpy.ndarray\n",
    "        Source vector from current iteration\n",
    "    s_o : numpy.ndarray\n",
    "        Source vector from previous iteration\n",
    "    k_n : float\n",
    "        K-effective  from current iteration\n",
    "    k_o : float\n",
    "        K-effective from previous iteration\n",
    "    iteration : int\n",
    "        Iteration number\n",
    "    innerits : int\n",
    "        Number of iterations required for convergence in inner GS loop\n",
    "\n",
    "    Returns\n",
    "    -------\n",
    "    iconv : bool\n",
    "        Whether the power iteration has reached convergence\n",
    "    serr : float\n",
    "        Error in source from previous iteration to current iteration, used\n",
    "        for dominance ratio calculations\n",
    "\n",
    "    \"\"\"\n",
    "    # Calculate error in keff\n",
    "    kerr = abs(k_o - k_n) / k_n\n",
    "\n",
    "    # Calculate max error in source\n",
    "    with np.errstate(divide='ignore', invalid='ignore'):\n",
    "        serr = np.sqrt(np.sum(np.where(s_n > 0, ((s_n-s_o) / s_n)**2, 0))\n",
    "                        / len(s_n))\n",
    "\n",
    "    # Check for convergence\n",
    "    iconv = kerr < 1.e-5 and serr < 1.e-4\n",
    "\n",
    "    return iconv, serr\n",
    "\n",
    "def _execute_power_iter(loss, prod):\n",
    "    \"\"\"Main power iteration routine for the CMFD calculation\n",
    "\n",
    "    Parameters\n",
    "    ----------\n",
    "    loss : scipy.sparse.spmatrix\n",
    "        Sparse matrix storing elements of CMFD loss matrix\n",
    "    prod : scipy.sparse.spmatrix\n",
    "        Sparse matrix storing elements of CMFD production matrix\n",
    "\n",
    "    Returns\n",
    "    -------\n",
    "    phi_n : numpy.ndarray\n",
    "        Flux vector of CMFD problem\n",
    "    k_n : float\n",
    "        Eigenvalue of CMFD problem\n",
    "    dom : float\n",
    "        Dominance ratio of CMFD problem\n",
    "\n",
    "    \"\"\"\n",
    "    # Get problem size\n",
    "    n = loss.shape[0]\n",
    "\n",
    "    # Set up tolerances for C++ solver\n",
    "    atoli = 1.e-10\n",
    "    rtoli = 1.e-5\n",
    "    toli = rtoli * 100\n",
    "\n",
    "    # Set up flux vectors, intital guess set to 1\n",
    "    phi_n = np.ones((n,))\n",
    "    phi_o = np.ones((n,))\n",
    "\n",
    "    # Set up source vectors\n",
    "    s_n = np.zeros((n,))\n",
    "    s_o = np.zeros((n,))\n",
    "\n",
    "    # Set initial guess\n",
    "    k_n = 1.5\n",
    "    k_o = k_n\n",
    "    dw = 1.e6\n",
    "    k_s = k_o + dw\n",
    "    k_ln = 1.0/(1.0/k_n - 1.0/k_s)\n",
    "    k_lo = k_ln\n",
    "\n",
    "    # Set norms to 0\n",
    "    norm_n = 0.0\n",
    "    norm_o = 0.0\n",
    "\n",
    "    # Maximum number of power iterations\n",
    "    maxits = 10000\n",
    "\n",
    "    # Perform Wielandt shift\n",
    "    loss -= 1.0/k_s*prod\n",
    "\n",
    "    # Begin power iteration\n",
    "    for i in range(maxits):\n",
    "        if i % 20 == 0:\n",
    "            print(f\"Iteration {i}\")\n",
    "        # Check if reach max number of iterations\n",
    "        if i == maxits - 1:\n",
    "            raise RuntimeError('Reached maximum iterations in CMFD power '\n",
    "                                'iteration solver.')\n",
    "\n",
    "        # Compute source vector\n",
    "        s_o = prod.dot(phi_o)\n",
    "\n",
    "        # Normalize source vector\n",
    "        s_o /= k_lo\n",
    "\n",
    "        # Compute new flux with C++ solver\n",
    "        innerits = gauss_seidel(loss, s_o, toli, 10000, phi_n)\n",
    "\n",
    "        # Compute new source vector\n",
    "        s_n = prod.dot(phi_n)\n",
    "\n",
    "        # Compute new shifted eigenvalue\n",
    "        k_ln = np.sum(s_n) / np.sum(s_o)\n",
    "\n",
    "        # Compute new eigenvalue\n",
    "        k_n = 1.0/(1.0/k_ln + 1.0/k_s)\n",
    "\n",
    "        # Renormalize the old source\n",
    "        s_o *= k_lo\n",
    "\n",
    "        # Check convergence\n",
    "        iconv, norm_n = _check_convergence(s_n, s_o, k_n, k_o, i+1, innerits)\n",
    "\n",
    "        # If converged, calculate dominance ratio and break from loop\n",
    "        if iconv:\n",
    "            dom = norm_n / norm_o\n",
    "            return phi_n, k_n, dom\n",
    "\n",
    "        # Record old values if not converged\n",
    "        phi_o = phi_n\n",
    "        k_o = k_n\n",
    "        k_lo = k_ln\n",
    "        norm_o = norm_n\n",
    "\n",
    "        # Update tolerance for inner iterations\n",
    "        toli = max(atoli, rtoli*norm_n)"
   ]
  },
  {
   "cell_type": "code",
   "execution_count": 58,
   "metadata": {},
   "outputs": [
    {
     "name": "stdout",
     "output_type": "stream",
     "text": [
      "Iteration 0\n",
      "Iteration 20\n",
      "Iteration 40\n",
      "Iteration 60\n",
      "Iteration 80\n",
      "Iteration 100\n",
      "Iteration 120\n",
      "Iteration 140\n",
      "Iteration 160\n",
      "Iteration 180\n",
      "Iteration 200\n",
      "Iteration 220\n",
      "Iteration 240\n",
      "Iteration 260\n",
      "Iteration 280\n",
      "Iteration 300\n",
      "Iteration 320\n",
      "Iteration 340\n",
      "Iteration 360\n",
      "Iteration 380\n"
     ]
    }
   ],
   "source": [
    "mc_flux, mc_k, dominance = _execute_power_iter(neutron_loss_matrix, neutron_production_matrix)"
   ]
  },
  {
   "cell_type": "code",
   "execution_count": 59,
   "metadata": {},
   "outputs": [
    {
     "name": "stdout",
     "output_type": "stream",
     "text": [
      "0.8143617169737695\n"
     ]
    }
   ],
   "source": [
    "print(mc_k)"
   ]
  },
  {
   "cell_type": "code",
   "execution_count": 60,
   "metadata": {},
   "outputs": [
    {
     "data": {
      "text/plain": [
       "[<matplotlib.lines.Line2D at 0x7f1529f79e40>]"
      ]
     },
     "execution_count": 60,
     "metadata": {},
     "output_type": "execute_result"
    },
    {
     "data": {
      "image/png": "[encoded data removed]",
      "text/plain": [
       "<Figure size 640x480 with 1 Axes>"
      ]
     },
     "metadata": {},
     "output_type": "display_data"
    }
   ],
   "source": [
    "import matplotlib.pyplot as plt\n",
    "\n",
    "predicted_flux = convert_flattened_flux_into_matrix(mc_flux)\n",
    "y_flux = predicted_flux[0, :, 0, 0]\n",
    "\n",
    "grid = np.linspace(-25, 25, mesh_size_y)\n",
    "plt.plot(grid, y_flux)\n",
    "plt.plot(grid, np.cos((np.pi * grid) / 50))"
   ]
  },
  {
   "cell_type": "code",
   "execution_count": 61,
   "metadata": {},
   "outputs": [
    {
     "data": {
      "text/plain": [
       "<matplotlib.colorbar.Colorbar at 0x7f1529e95630>"
      ]
     },
     "execution_count": 61,
     "metadata": {},
     "output_type": "execute_result"
    },
    {
     "data": {
      "image/png": "[encoded data removed]",
      "text/plain": [
       "<Figure size 640x480 with 2 Axes>"
      ]
     },
     "metadata": {},
     "output_type": "display_data"
    }
   ],
   "source": [
    "import matplotlib.pyplot as plt\n",
    "\n",
    "fig, (ax1) = plt.subplots(1, 1, sharey=True)\n",
    "\n",
    "predicted_flux = convert_flattened_flux_into_matrix(mc_flux)\n",
    "total_flux = np.sum(predicted_flux[:, :, :, 0], axis=2).T\n",
    "img1 = ax1.imshow(total_flux, extent=[-30, 30, -100, 100])\n",
    "\n",
    "ax1.set_title(\"CMFD flux\")\n",
    "\n",
    "fig.colorbar(img1)"
   ]
  },
  {
   "cell_type": "code",
   "execution_count": 62,
   "metadata": {},
   "outputs": [
    {
     "data": {
      "text/plain": [
       "<matplotlib.colorbar.Colorbar at 0x7f1529d4f880>"
      ]
     },
     "execution_count": 62,
     "metadata": {},
     "output_type": "execute_result"
    },
    {
     "data": {
      "image/png": "[encoded data removed]",
      "text/plain": [
       "<Figure size 640x480 with 2 Axes>"
      ]
     },
     "metadata": {},
     "output_type": "display_data"
    }
   ],
   "source": [
    "import matplotlib.pyplot as plt\n",
    "\n",
    "fig, (ax1) = plt.subplots(1, 1, sharey=True)\n",
    "\n",
    "total_flux = np.sum(flux_matrix[:, :, :, 0, 0, 0], axis=0)\n",
    "img1 = ax1.imshow(total_flux, extent=[-30, 30, -100, 100])\n",
    "\n",
    "ax1.set_title(\"Measured flux\")\n",
    "\n",
    "fig.colorbar(img1)"
   ]
  }
 ],
 "metadata": {
  "kernelspec": {
   "display_name": "Python 3.10.8 64-bit",
   "language": "python",
   "name": "python3"
  },
  "language_info": {
   "codemirror_mode": {
    "name": "ipython",
    "version": 3
   },
   "file_extension": ".py",
   "mimetype": "text/x-python",
   "name": "python",
   "nbconvert_exporter": "python",
   "pygments_lexer": "ipython3",
   "version": "3.10.10"
  },
  "orig_nbformat": 4,
  "vscode": {
   "interpreter": {
    "hash": "e7370f93d1d0cde622a1f8e1c04877d8463912d04d973331ad4851f04de6915a"
   }
  }
 },
 "nbformat": 4,
 "nbformat_minor": 2
}
