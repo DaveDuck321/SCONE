{
 "cells": [
  {
   "cell_type": "code",
   "execution_count": 1,
   "metadata": {},
   "outputs": [],
   "source": [
    "import numpy as np\n",
    "import scipy.io as sio"
   ]
  },
  {
   "cell_type": "code",
   "execution_count": 2,
   "metadata": {},
   "outputs": [
    {
     "name": "stdout",
     "output_type": "stream",
     "text": [
      "dict_keys(['__header__', '__version__', '__globals__', 'Active_Cycles', 'Inactive_Cycles', 'Total_CPU_Time', 'Total_Transport_Time', 'active_TransportXS_EnergyBounds', 'active_TransportXS_XBounds', 'active_TransportXS_YBounds', 'active_TransportXS_ZBounds', 'active_TransportXS_multiMapOrder', 'active_TransportXS_transportFluxLimited', 'active_batchSize', 'active_current_JM', 'active_current_XBounds', 'active_current_YBounds', 'active_current_ZBounds', 'active_current_multiMapOrder', 'batchSize', 'inactive_batchSize', 'keff_ANA_LEAK', 'keff_IMP_ABS', 'keff_IMP_PROD', 'keff_K_EFF', 'keff_SCATTER_PROD', 'pop', 'seed'])\n"
     ]
    }
   ],
   "source": [
    "data = sio.loadmat(\"output.mat\")\n",
    "print(data.keys())"
   ]
  },
  {
   "cell_type": "code",
   "execution_count": 3,
   "metadata": {},
   "outputs": [],
   "source": [
    "active_TransportXS_EnergyBounds = data[\"active_TransportXS_EnergyBounds\"]\n",
    "active_TransportXS_XBounds = data[\"active_TransportXS_XBounds\"]\n",
    "active_TransportXS_YBounds = data[\"active_TransportXS_YBounds\"]\n",
    "active_TransportXS_ZBounds = data[\"active_TransportXS_ZBounds\"]\n",
    "active_TransportXS_transportFluxLimited = data[\"active_TransportXS_transportFluxLimited\"]\n",
    "active_current_JM = data[\"active_current_JM\"]\n",
    "active_current_XBounds = data[\"active_current_XBounds\"]\n",
    "active_current_YBounds = data[\"active_current_YBounds\"]\n",
    "active_current_ZBounds = data[\"active_current_ZBounds\"]\n",
    "active_TransportXS_EnergyBounds = data[\"active_TransportXS_EnergyBounds\"]"
   ]
  },
  {
   "cell_type": "code",
   "execution_count": 5,
   "metadata": {},
   "outputs": [
    {
     "data": {
      "text/plain": [
       "(7, 5, 5, 5)"
      ]
     },
     "execution_count": 5,
     "metadata": {},
     "output_type": "execute_result"
    }
   ],
   "source": [
    "active_TransportXS_transportFluxLimited.shape\n",
    "\n",
    "# Index energy, x, y, z\n",
    "transport_cross_section = active_TransportXS_transportFluxLimited[0, :, :, :]\n",
    "transport_cross_section.shape"
   ]
  },
  {
   "cell_type": "code",
   "execution_count": 17,
   "metadata": {},
   "outputs": [],
   "source": [
    "energy_count = active_TransportXS_EnergyBounds.shape[0]\n",
    "xcount = active_current_XBounds.shape[1]\n",
    "ycount = active_current_YBounds.shape[1]\n",
    "zcount = active_current_ZBounds.shape[1]\n"
   ]
  },
  {
   "cell_type": "code",
   "execution_count": 22,
   "metadata": {},
   "outputs": [],
   "source": [
    "active_current_JM.shape\n",
    "\n",
    "# Index energy, z, y, x\n",
    "x_direction_current = active_current_JM[0, :, 0, :]\n",
    "x_direction_current = x_direction_current.reshape((energy_count, xcount, ycount, zcount))\n",
    "\n",
    "y_direction_current = active_current_JM[0, :, 1, :]\n",
    "y_direction_current = y_direction_current.reshape((energy_count, xcount, ycount, zcount))\n",
    "\n",
    "z_direction_current = active_current_JM[0, :, 2, :]\n",
    "z_direction_current = z_direction_current.reshape((energy_count, xcount, ycount, zcount))"
   ]
  },
  {
   "cell_type": "code",
   "execution_count": 23,
   "metadata": {},
   "outputs": [],
   "source": [
    "def call_for_each_cell(callback):\n",
    "    for energy_group in range(energy_count):\n",
    "        for x in range(xcount):\n",
    "            for y in range(ycount):\n",
    "                for z in range(zcount):\n",
    "                    callback(energy_group, x, y, z)"
   ]
  },
  {
   "cell_type": "code",
   "execution_count": null,
   "metadata": {},
   "outputs": [],
   "source": [
    "# Populate nonlinear parameter matrix\n",
    "equivalence_parameter = np.zeros(transport_cross_section.shape)\n"
   ]
  }
 ],
 "metadata": {
  "kernelspec": {
   "display_name": "Python 3.10.8 64-bit",
   "language": "python",
   "name": "python3"
  },
  "language_info": {
   "codemirror_mode": {
    "name": "ipython",
    "version": 3
   },
   "file_extension": ".py",
   "mimetype": "text/x-python",
   "name": "python",
   "nbconvert_exporter": "python",
   "pygments_lexer": "ipython3",
   "version": "3.10.8"
  },
  "orig_nbformat": 4,
  "vscode": {
   "interpreter": {
    "hash": "e7370f93d1d0cde622a1f8e1c04877d8463912d04d973331ad4851f04de6915a"
   }
  }
 },
 "nbformat": 4,
 "nbformat_minor": 2
}
